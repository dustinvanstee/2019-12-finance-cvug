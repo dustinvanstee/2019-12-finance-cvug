{
 "cells": [
  {
   "cell_type": "markdown",
   "metadata": {},
   "source": [
    "<h1><center>Credit Risk Analysis using IBM PowerAI Snap ML</center></h1>"
   ]
  },
  {
   "cell_type": "markdown",
   "metadata": {},
   "source": [
    "In this example we will train a Logistic Regression model on customers' credit history dataset, using both scikit-learn and snap-ml-local.\n",
    "Update device_ids list in LogisticRegression of snap_ml based on the number of GPUs available for you.\n",
    "\n",
    "To avoid 'kernel restart' problem increase CPU and memory for the jupyter environment (e.g. memory 10GB, CPU 100) and restart it"
   ]
  },
  {
   "cell_type": "markdown",
   "metadata": {},
   "source": [
    "### Download input dataset of customers' information\n",
    "\n",
    "Two wget commands are given below for downloading input dataset - one for reduced dataset and another for bigger/full dataset. Many times better perfomance of snapML training is seen with bigger dataset.\n",
    "\n",
    "You can comment out downloading code below if running the same wget command more than once."
   ]
  },
  {
   "cell_type": "code",
   "execution_count": 9,
   "metadata": {
    "ExecuteTime": {
     "end_time": "2019-12-10T20:25:52.483104Z",
     "start_time": "2019-12-10T20:25:51.250810Z"
    }
   },
   "outputs": [
    {
     "name": "stdout",
     "output_type": "stream",
     "text": [
      "--2019-12-10 15:25:51--  https://ibm.box.com/shared/static/gucqudgok3o0awc0o1vfhbo2ix2k0wqa.csv\n",
      "Resolving ibm.box.com (ibm.box.com)... 107.152.26.197, 107.152.27.197\n",
      "Connecting to ibm.box.com (ibm.box.com)|107.152.26.197|:443... connected.\n",
      "HTTP request sent, awaiting response... 301 Moved Permanently\n",
      "Location: /public/static/gucqudgok3o0awc0o1vfhbo2ix2k0wqa.csv [following]\n",
      "--2019-12-10 15:25:51--  https://ibm.box.com/public/static/gucqudgok3o0awc0o1vfhbo2ix2k0wqa.csv\n",
      "Reusing existing connection to ibm.box.com:443.\n",
      "HTTP request sent, awaiting response... 301 Moved Permanently\n",
      "Location: https://ibm.ent.box.com/public/static/gucqudgok3o0awc0o1vfhbo2ix2k0wqa.csv [following]\n",
      "--2019-12-10 15:25:51--  https://ibm.ent.box.com/public/static/gucqudgok3o0awc0o1vfhbo2ix2k0wqa.csv\n",
      "Resolving ibm.ent.box.com (ibm.ent.box.com)... 107.152.27.211, 107.152.26.211\n",
      "Connecting to ibm.ent.box.com (ibm.ent.box.com)|107.152.27.211|:443... connected.\n",
      "HTTP request sent, awaiting response... 302 Found\n",
      "Location: https://ibm.ent.box.com/login?redirect_url=https%3A%2F%2Fibm.ent.box.com%2Fpublic%2Fstatic%2Fgucqudgok3o0awc0o1vfhbo2ix2k0wqa.csv [following]\n",
      "--2019-12-10 15:25:51--  https://ibm.ent.box.com/login?redirect_url=https%3A%2F%2Fibm.ent.box.com%2Fpublic%2Fstatic%2Fgucqudgok3o0awc0o1vfhbo2ix2k0wqa.csv\n",
      "Reusing existing connection to ibm.ent.box.com:443.\n",
      "HTTP request sent, awaiting response... 301 Moved Permanently\n",
      "Location: https://ibm.account.box.com/login?redirect_url=https%3A%2F%2Fibm.ent.box.com%2Fpublic%2Fstatic%2Fgucqudgok3o0awc0o1vfhbo2ix2k0wqa.csv [following]\n",
      "--2019-12-10 15:25:52--  https://ibm.account.box.com/login?redirect_url=https%3A%2F%2Fibm.ent.box.com%2Fpublic%2Fstatic%2Fgucqudgok3o0awc0o1vfhbo2ix2k0wqa.csv\n",
      "Resolving ibm.account.box.com (ibm.account.box.com)... 107.152.27.215, 107.152.26.215\n",
      "Connecting to ibm.account.box.com (ibm.account.box.com)|107.152.27.215|:443... connected.\n",
      "HTTP request sent, awaiting response... 200 OK\n",
      "Length: unspecified [text/html]\n",
      "Saving to: ‘credit_customer_history.csv’\n",
      "\n",
      "    [ <=>                                   ] 14,841      --.-K/s   in 0.004s  \n",
      "\n",
      "2019-12-10 15:25:52 (3.83 MB/s) - ‘credit_customer_history.csv’ saved [14841]\n",
      "\n"
     ]
    }
   ],
   "source": [
    "# Many times better training time with snapML compared to sklearn with this full dataset\n",
    "#!wget -O credit_customer_history.csv -nc https://ibm.box.com/shared/static/lkvsjt6cch2fdtecobhjf54snmm6eagt.csv\n",
    "\n",
    "# Download reduced dataset\n",
    "!wget -O credit_customer_history.csv https://ibm.box.com/shared/static/gucqudgok3o0awc0o1vfhbo2ix2k0wqa.csv"
   ]
  },
  {
   "cell_type": "code",
   "execution_count": 8,
   "metadata": {
    "ExecuteTime": {
     "end_time": "2019-12-10T20:25:48.346766Z",
     "start_time": "2019-12-10T20:25:48.010640Z"
    }
   },
   "outputs": [
    {
     "name": "stdout",
     "output_type": "stream",
     "text": [
      "/gpfs/home/s4s004/vanstee/2019-12-vug/WML-CE-PAI4SK\n",
      "total 240\n",
      "-rw-r--r-- 1 vanstee accibm  14837 Dec 10 15:20 credit_customer_history.csv\n",
      "-rw-r--r-- 1 vanstee accibm 200291 Dec 10 15:24 credit-default-prediction-example.ipynb\n",
      "-rw-r--r-- 1 vanstee accibm  14363 Dec 10 15:19 example-higgs.ipynb\n"
     ]
    }
   ],
   "source": [
    "!pwd\n",
    "!ls -l\n",
    "#!rm credit_customer_history.csv"
   ]
  },
  {
   "cell_type": "markdown",
   "metadata": {},
   "source": [
    "### imports"
   ]
  },
  {
   "cell_type": "code",
   "execution_count": 2,
   "metadata": {
    "ExecuteTime": {
     "end_time": "2019-12-10T20:20:27.910890Z",
     "start_time": "2019-12-10T20:20:21.636748Z"
    }
   },
   "outputs": [],
   "source": [
    "from __future__ import print_function\n",
    "import numpy as np\n",
    "import pandas as pd\n",
    "pd.options.display.max_columns = 999\n",
    "import matplotlib.pyplot as plt\n",
    "import seaborn as sns\n",
    "%matplotlib inline\n",
    "import sklearn\n",
    "from sklearn.model_selection import train_test_split, StratifiedKFold\n",
    "from sklearn.preprocessing import MinMaxScaler, LabelEncoder, normalize\n",
    "from sklearn.ensemble import RandomForestClassifier\n",
    "from sklearn.metrics import f1_score, accuracy_score, roc_curve, roc_auc_score\n",
    "from scipy.stats import chi2_contingency,ttest_ind\n",
    "from sklearn.utils import shuffle\n",
    "import time\n",
    "\n",
    "import warnings\n",
    "warnings.filterwarnings('ignore')\n"
   ]
  },
  {
   "cell_type": "code",
   "execution_count": 3,
   "metadata": {
    "ExecuteTime": {
     "end_time": "2019-12-10T20:20:42.422483Z",
     "start_time": "2019-12-10T20:20:42.416862Z"
    }
   },
   "outputs": [
    {
     "data": {
      "application/javascript": [
       "IPython.OutputArea.prototype._should_scroll = function(lines) {\n",
       "    return false;\n",
       "}\n"
      ],
      "text/plain": [
       "<IPython.core.display.Javascript object>"
      ]
     },
     "metadata": {},
     "output_type": "display_data"
    }
   ],
   "source": [
    "%%javascript\n",
    "IPython.OutputArea.prototype._should_scroll = function(lines) {\n",
    "    return false;\n",
    "}\n"
   ]
  },
  {
   "cell_type": "markdown",
   "metadata": {},
   "source": [
    "# Dataset Visualization\n",
    "\n",
    "\n",
    "Let's take a quick look at the dataset.\n"
   ]
  },
  {
   "cell_type": "code",
   "execution_count": 6,
   "metadata": {
    "ExecuteTime": {
     "end_time": "2019-12-10T20:24:25.372099Z",
     "start_time": "2019-12-10T20:24:25.330629Z"
    },
    "scrolled": true
   },
   "outputs": [
    {
     "ename": "ParserError",
     "evalue": "Error tokenizing data. C error: Expected 3 fields in line 28, saw 9\n",
     "output_type": "error",
     "traceback": [
      "\u001b[0;31m---------------------------------------------------------------------------\u001b[0m",
      "\u001b[0;31mParserError\u001b[0m                               Traceback (most recent call last)",
      "\u001b[0;32m<ipython-input-6-f6d500abf169>\u001b[0m in \u001b[0;36m<module>\u001b[0;34m\u001b[0m\n\u001b[0;32m----> 1\u001b[0;31m \u001b[0mcust_pd_full\u001b[0m \u001b[0;34m=\u001b[0m \u001b[0mpd\u001b[0m\u001b[0;34m.\u001b[0m\u001b[0mread_csv\u001b[0m\u001b[0;34m(\u001b[0m\u001b[0;34m'credit_customer_history.csv'\u001b[0m\u001b[0;34m)\u001b[0m\u001b[0;34m\u001b[0m\u001b[0;34m\u001b[0m\u001b[0m\n\u001b[0m\u001b[1;32m      2\u001b[0m \u001b[0;34m\u001b[0m\u001b[0m\n\u001b[1;32m      3\u001b[0m \u001b[0mrows\u001b[0m\u001b[0;34m=\u001b[0m\u001b[0;36m1000000\u001b[0m\u001b[0;34m\u001b[0m\u001b[0;34m\u001b[0m\u001b[0m\n\u001b[1;32m      4\u001b[0m \u001b[0mcust_pd\u001b[0m \u001b[0;34m=\u001b[0m \u001b[0mcust_pd_full\u001b[0m\u001b[0;34m.\u001b[0m\u001b[0mhead\u001b[0m\u001b[0;34m(\u001b[0m\u001b[0mrows\u001b[0m\u001b[0;34m)\u001b[0m\u001b[0;34m\u001b[0m\u001b[0;34m\u001b[0m\u001b[0m\n\u001b[1;32m      5\u001b[0m \u001b[0mprint\u001b[0m\u001b[0;34m(\u001b[0m\u001b[0;34m\"There are \"\u001b[0m \u001b[0;34m+\u001b[0m \u001b[0mstr\u001b[0m\u001b[0;34m(\u001b[0m\u001b[0mlen\u001b[0m\u001b[0;34m(\u001b[0m\u001b[0mcust_pd_full\u001b[0m\u001b[0;34m)\u001b[0m\u001b[0;34m)\u001b[0m \u001b[0;34m+\u001b[0m \u001b[0;34m\" observations in the customer history dataset.\"\u001b[0m\u001b[0;34m)\u001b[0m\u001b[0;34m\u001b[0m\u001b[0;34m\u001b[0m\u001b[0m\n",
      "\u001b[0;32m~/anaconda3/lib/python3.7/site-packages/pandas/io/parsers.py\u001b[0m in \u001b[0;36mparser_f\u001b[0;34m(filepath_or_buffer, sep, delimiter, header, names, index_col, usecols, squeeze, prefix, mangle_dupe_cols, dtype, engine, converters, true_values, false_values, skipinitialspace, skiprows, skipfooter, nrows, na_values, keep_default_na, na_filter, verbose, skip_blank_lines, parse_dates, infer_datetime_format, keep_date_col, date_parser, dayfirst, cache_dates, iterator, chunksize, compression, thousands, decimal, lineterminator, quotechar, quoting, doublequote, escapechar, comment, encoding, dialect, error_bad_lines, warn_bad_lines, delim_whitespace, low_memory, memory_map, float_precision)\u001b[0m\n\u001b[1;32m    683\u001b[0m         )\n\u001b[1;32m    684\u001b[0m \u001b[0;34m\u001b[0m\u001b[0m\n\u001b[0;32m--> 685\u001b[0;31m         \u001b[0;32mreturn\u001b[0m \u001b[0m_read\u001b[0m\u001b[0;34m(\u001b[0m\u001b[0mfilepath_or_buffer\u001b[0m\u001b[0;34m,\u001b[0m \u001b[0mkwds\u001b[0m\u001b[0;34m)\u001b[0m\u001b[0;34m\u001b[0m\u001b[0;34m\u001b[0m\u001b[0m\n\u001b[0m\u001b[1;32m    686\u001b[0m \u001b[0;34m\u001b[0m\u001b[0m\n\u001b[1;32m    687\u001b[0m     \u001b[0mparser_f\u001b[0m\u001b[0;34m.\u001b[0m\u001b[0m__name__\u001b[0m \u001b[0;34m=\u001b[0m \u001b[0mname\u001b[0m\u001b[0;34m\u001b[0m\u001b[0;34m\u001b[0m\u001b[0m\n",
      "\u001b[0;32m~/anaconda3/lib/python3.7/site-packages/pandas/io/parsers.py\u001b[0m in \u001b[0;36m_read\u001b[0;34m(filepath_or_buffer, kwds)\u001b[0m\n\u001b[1;32m    461\u001b[0m \u001b[0;34m\u001b[0m\u001b[0m\n\u001b[1;32m    462\u001b[0m     \u001b[0;32mtry\u001b[0m\u001b[0;34m:\u001b[0m\u001b[0;34m\u001b[0m\u001b[0;34m\u001b[0m\u001b[0m\n\u001b[0;32m--> 463\u001b[0;31m         \u001b[0mdata\u001b[0m \u001b[0;34m=\u001b[0m \u001b[0mparser\u001b[0m\u001b[0;34m.\u001b[0m\u001b[0mread\u001b[0m\u001b[0;34m(\u001b[0m\u001b[0mnrows\u001b[0m\u001b[0;34m)\u001b[0m\u001b[0;34m\u001b[0m\u001b[0;34m\u001b[0m\u001b[0m\n\u001b[0m\u001b[1;32m    464\u001b[0m     \u001b[0;32mfinally\u001b[0m\u001b[0;34m:\u001b[0m\u001b[0;34m\u001b[0m\u001b[0;34m\u001b[0m\u001b[0m\n\u001b[1;32m    465\u001b[0m         \u001b[0mparser\u001b[0m\u001b[0;34m.\u001b[0m\u001b[0mclose\u001b[0m\u001b[0;34m(\u001b[0m\u001b[0;34m)\u001b[0m\u001b[0;34m\u001b[0m\u001b[0;34m\u001b[0m\u001b[0m\n",
      "\u001b[0;32m~/anaconda3/lib/python3.7/site-packages/pandas/io/parsers.py\u001b[0m in \u001b[0;36mread\u001b[0;34m(self, nrows)\u001b[0m\n\u001b[1;32m   1152\u001b[0m     \u001b[0;32mdef\u001b[0m \u001b[0mread\u001b[0m\u001b[0;34m(\u001b[0m\u001b[0mself\u001b[0m\u001b[0;34m,\u001b[0m \u001b[0mnrows\u001b[0m\u001b[0;34m=\u001b[0m\u001b[0;32mNone\u001b[0m\u001b[0;34m)\u001b[0m\u001b[0;34m:\u001b[0m\u001b[0;34m\u001b[0m\u001b[0;34m\u001b[0m\u001b[0m\n\u001b[1;32m   1153\u001b[0m         \u001b[0mnrows\u001b[0m \u001b[0;34m=\u001b[0m \u001b[0m_validate_integer\u001b[0m\u001b[0;34m(\u001b[0m\u001b[0;34m\"nrows\"\u001b[0m\u001b[0;34m,\u001b[0m \u001b[0mnrows\u001b[0m\u001b[0;34m)\u001b[0m\u001b[0;34m\u001b[0m\u001b[0;34m\u001b[0m\u001b[0m\n\u001b[0;32m-> 1154\u001b[0;31m         \u001b[0mret\u001b[0m \u001b[0;34m=\u001b[0m \u001b[0mself\u001b[0m\u001b[0;34m.\u001b[0m\u001b[0m_engine\u001b[0m\u001b[0;34m.\u001b[0m\u001b[0mread\u001b[0m\u001b[0;34m(\u001b[0m\u001b[0mnrows\u001b[0m\u001b[0;34m)\u001b[0m\u001b[0;34m\u001b[0m\u001b[0;34m\u001b[0m\u001b[0m\n\u001b[0m\u001b[1;32m   1155\u001b[0m \u001b[0;34m\u001b[0m\u001b[0m\n\u001b[1;32m   1156\u001b[0m         \u001b[0;31m# May alter columns / col_dict\u001b[0m\u001b[0;34m\u001b[0m\u001b[0;34m\u001b[0m\u001b[0;34m\u001b[0m\u001b[0m\n",
      "\u001b[0;32m~/anaconda3/lib/python3.7/site-packages/pandas/io/parsers.py\u001b[0m in \u001b[0;36mread\u001b[0;34m(self, nrows)\u001b[0m\n\u001b[1;32m   2057\u001b[0m     \u001b[0;32mdef\u001b[0m \u001b[0mread\u001b[0m\u001b[0;34m(\u001b[0m\u001b[0mself\u001b[0m\u001b[0;34m,\u001b[0m \u001b[0mnrows\u001b[0m\u001b[0;34m=\u001b[0m\u001b[0;32mNone\u001b[0m\u001b[0;34m)\u001b[0m\u001b[0;34m:\u001b[0m\u001b[0;34m\u001b[0m\u001b[0;34m\u001b[0m\u001b[0m\n\u001b[1;32m   2058\u001b[0m         \u001b[0;32mtry\u001b[0m\u001b[0;34m:\u001b[0m\u001b[0;34m\u001b[0m\u001b[0;34m\u001b[0m\u001b[0m\n\u001b[0;32m-> 2059\u001b[0;31m             \u001b[0mdata\u001b[0m \u001b[0;34m=\u001b[0m \u001b[0mself\u001b[0m\u001b[0;34m.\u001b[0m\u001b[0m_reader\u001b[0m\u001b[0;34m.\u001b[0m\u001b[0mread\u001b[0m\u001b[0;34m(\u001b[0m\u001b[0mnrows\u001b[0m\u001b[0;34m)\u001b[0m\u001b[0;34m\u001b[0m\u001b[0;34m\u001b[0m\u001b[0m\n\u001b[0m\u001b[1;32m   2060\u001b[0m         \u001b[0;32mexcept\u001b[0m \u001b[0mStopIteration\u001b[0m\u001b[0;34m:\u001b[0m\u001b[0;34m\u001b[0m\u001b[0;34m\u001b[0m\u001b[0m\n\u001b[1;32m   2061\u001b[0m             \u001b[0;32mif\u001b[0m \u001b[0mself\u001b[0m\u001b[0;34m.\u001b[0m\u001b[0m_first_chunk\u001b[0m\u001b[0;34m:\u001b[0m\u001b[0;34m\u001b[0m\u001b[0;34m\u001b[0m\u001b[0m\n",
      "\u001b[0;32mpandas/_libs/parsers.pyx\u001b[0m in \u001b[0;36mpandas._libs.parsers.TextReader.read\u001b[0;34m()\u001b[0m\n",
      "\u001b[0;32mpandas/_libs/parsers.pyx\u001b[0m in \u001b[0;36mpandas._libs.parsers.TextReader._read_low_memory\u001b[0;34m()\u001b[0m\n",
      "\u001b[0;32mpandas/_libs/parsers.pyx\u001b[0m in \u001b[0;36mpandas._libs.parsers.TextReader._read_rows\u001b[0;34m()\u001b[0m\n",
      "\u001b[0;32mpandas/_libs/parsers.pyx\u001b[0m in \u001b[0;36mpandas._libs.parsers.TextReader._tokenize_rows\u001b[0;34m()\u001b[0m\n",
      "\u001b[0;32mpandas/_libs/parsers.pyx\u001b[0m in \u001b[0;36mpandas._libs.parsers.raise_parser_error\u001b[0;34m()\u001b[0m\n",
      "\u001b[0;31mParserError\u001b[0m: Error tokenizing data. C error: Expected 3 fields in line 28, saw 9\n"
     ]
    }
   ],
   "source": [
    "cust_pd_full = pd.read_csv('credit_customer_history.csv')\n",
    "\n",
    "rows=1000000\n",
    "cust_pd = cust_pd_full.head(rows)\n",
    "print(\"There are \" + str(len(cust_pd_full)) + \" observations in the customer history dataset.\")\n",
    "print(\"There are \" + str(len(cust_pd_full.columns)) + \" variables in the dataset.\")\n",
    "\n",
    "cust_pd.head()"
   ]
  },
  {
   "cell_type": "markdown",
   "metadata": {},
   "source": [
    "# distribution of output variable default"
   ]
  },
  {
   "cell_type": "code",
   "execution_count": 5,
   "metadata": {},
   "outputs": [
    {
     "data": {
      "text/plain": [
       "<matplotlib.legend.Legend at 0x7fffb08fdef0>"
      ]
     },
     "execution_count": 5,
     "metadata": {},
     "output_type": "execute_result"
    },
    {
     "data": {
      "image/png": "[encoded data removed]",
      "text/plain": [
       "<Figure size 432x288 with 1 Axes>"
      ]
     },
     "metadata": {},
     "output_type": "display_data"
    }
   ],
   "source": [
    "#cust_pd.IS_DEFAULT.value_counts().plot(kind='pie',colormap='winter',autopct='%1.0f%%').legend(bbox_to_anchor=(1.2, 0.6))\n",
    "cust_pd.IS_DEFAULT.value_counts().plot(kind='pie',autopct='%1.0f%%').legend(bbox_to_anchor=(1.2, 0.6))"
   ]
  },
  {
   "cell_type": "markdown",
   "metadata": {
    "collapsed": true
   },
   "source": [
    "# Default by Credit Program"
   ]
  },
  {
   "cell_type": "code",
   "execution_count": 6,
   "metadata": {},
   "outputs": [
    {
     "data": {
      "text/plain": [
       "<matplotlib.legend.Legend at 0x7fff88451da0>"
      ]
     },
     "execution_count": 6,
     "metadata": {},
     "output_type": "execute_result"
    },
    {
     "data": {
      "image/png": "[encoded data removed]",
      "text/plain": [
       "<Figure size 432x288 with 1 Axes>"
      ]
     },
     "metadata": {},
     "output_type": "display_data"
    }
   ],
   "source": [
    "cust_pd.TRANSACTION_CATEGORY.value_counts().plot(kind='pie',autopct='%1.0f%%').legend(bbox_to_anchor=(1.2, 0.7))"
   ]
  },
  {
   "cell_type": "markdown",
   "metadata": {},
   "source": [
    "* Top 3 credit programs with most Merchants are Electronics(28%), New Car(23.4%) and Furniture(18.1%)."
   ]
  },
  {
   "cell_type": "code",
   "execution_count": 7,
   "metadata": {
    "pixiedust": {
     "displayParams": {
      "aggregation": "COUNT",
      "chartsize": "100",
      "handlerId": "pieChart",
      "keyFields": "IS_DEFAULT",
      "rowCount": "1000"
     }
    },
    "scrolled": true
   },
   "outputs": [
    {
     "data": {
      "text/plain": [
       "<matplotlib.legend.Legend at 0x7fff88446e48>"
      ]
     },
     "execution_count": 7,
     "metadata": {},
     "output_type": "execute_result"
    },
    {
     "data": {
      "image/png": "[encoded data removed]",
      "text/plain": [
       "<Figure size 432x288 with 1 Axes>"
      ]
     },
     "metadata": {
      "needs_background": "light"
     },
     "output_type": "display_data"
    }
   ],
   "source": [
    "defaults_by_credit_program = cust_pd.groupby(['TRANSACTION_CATEGORY','IS_DEFAULT']).size()\n",
    "percentages = defaults_by_credit_program.groupby(level=0).apply(lambda x:100 * x / float(x.sum()))\n",
    "percentages.unstack().plot(kind='bar',stacked=True,color=['blue','red'],grid=False).legend(bbox_to_anchor=(1.2, 0.5))"
   ]
  },
  {
   "cell_type": "markdown",
   "metadata": {},
   "source": [
    "* Top 3 credit programs with high default rate are Education(44%), New Car(38%), and Retraining(35.1%)"
   ]
  },
  {
   "cell_type": "markdown",
   "metadata": {},
   "source": [
    "\n",
    "# Default by IS_STATE_BORDER\n"
   ]
  },
  {
   "cell_type": "code",
   "execution_count": 8,
   "metadata": {
    "scrolled": true
   },
   "outputs": [
    {
     "data": {
      "text/plain": [
       "<matplotlib.legend.Legend at 0x7fffb08e2128>"
      ]
     },
     "execution_count": 8,
     "metadata": {},
     "output_type": "execute_result"
    },
    {
     "data": {
      "image/png": "[encoded data removed]",
      "text/plain": [
       "<Figure size 432x288 with 1 Axes>"
      ]
     },
     "metadata": {},
     "output_type": "display_data"
    }
   ],
   "source": [
    "cust_pd.IS_STATE_BORDER.value_counts().plot(kind='pie',autopct='%1.0f%%').legend(bbox_to_anchor=(1.2, 0.5))"
   ]
  },
  {
   "cell_type": "code",
   "execution_count": 9,
   "metadata": {},
   "outputs": [
    {
     "data": {
      "text/plain": [
       "<matplotlib.legend.Legend at 0x7fff883d50f0>"
      ]
     },
     "execution_count": 9,
     "metadata": {},
     "output_type": "execute_result"
    },
    {
     "data": {
      "image/png": "[encoded data removed]",
      "text/plain": [
       "<Figure size 432x288 with 1 Axes>"
      ]
     },
     "metadata": {
      "needs_background": "light"
     },
     "output_type": "display_data"
    }
   ],
   "source": [
    "defaults_by_xborder = cust_pd.groupby(['IS_STATE_BORDER','IS_DEFAULT']).size()\n",
    "percentages = defaults_by_xborder.groupby(level=0).apply(lambda x:100 * x / float(x.sum()))\n",
    "percentages.unstack().plot(kind='bar',stacked=True,  color=['blue','red'], grid=False).legend(bbox_to_anchor=(1.2, 0.5))"
   ]
  },
  {
   "cell_type": "markdown",
   "metadata": {},
   "source": [
    "# HAS_CO_APPLICANT vs. IS_DEFAULT"
   ]
  },
  {
   "cell_type": "code",
   "execution_count": 10,
   "metadata": {
    "scrolled": true
   },
   "outputs": [
    {
     "data": {
      "text/plain": [
       "<matplotlib.legend.Legend at 0x7fff88388940>"
      ]
     },
     "execution_count": 10,
     "metadata": {},
     "output_type": "execute_result"
    },
    {
     "data": {
      "image/png": "[encoded data removed]",
      "text/plain": [
       "<Figure size 432x288 with 1 Axes>"
      ]
     },
     "metadata": {
      "needs_background": "light"
     },
     "output_type": "display_data"
    }
   ],
   "source": [
    "defaults_by_rent = cust_pd.groupby(['HAS_CO_APPLICANT','IS_DEFAULT']).size()\n",
    "percentages = defaults_by_rent.groupby(level=0).apply(lambda x:100 * x / float(x.sum()))\n",
    "percentages.unstack().plot(kind='bar',stacked=True,  color=['blue','red'], grid=False).legend(bbox_to_anchor=(1.2, 0.5))"
   ]
  },
  {
   "cell_type": "markdown",
   "metadata": {},
   "source": [
    "From this stacked bar chart, we can see that Merchants who rent their residence have higher default rate."
   ]
  },
  {
   "cell_type": "markdown",
   "metadata": {},
   "source": [
    "# CREDIT_HISTORY vs. IS_DEFAULT"
   ]
  },
  {
   "cell_type": "code",
   "execution_count": 11,
   "metadata": {},
   "outputs": [
    {
     "data": {
      "text/plain": [
       "<matplotlib.axes._subplots.AxesSubplot at 0x7fff88290470>"
      ]
     },
     "execution_count": 11,
     "metadata": {},
     "output_type": "execute_result"
    },
    {
     "data": {
      "image/png": "[encoded data removed]",
      "text/plain": [
       "<Figure size 432x288 with 1 Axes>"
      ]
     },
     "metadata": {
      "needs_background": "light"
     },
     "output_type": "display_data"
    }
   ],
   "source": [
    "cust_pd.CREDIT_HISTORY.value_counts().plot(kind='bar', title='CREDIT_HISTORY')"
   ]
  },
  {
   "cell_type": "code",
   "execution_count": 12,
   "metadata": {
    "scrolled": true
   },
   "outputs": [
    {
     "data": {
      "text/plain": [
       "<matplotlib.legend.Legend at 0x7fff883073c8>"
      ]
     },
     "execution_count": 12,
     "metadata": {},
     "output_type": "execute_result"
    },
    {
     "data": {
      "image/png": "[encoded data removed]",
      "text/plain": [
       "<Figure size 432x288 with 1 Axes>"
      ]
     },
     "metadata": {
      "needs_background": "light"
     },
     "output_type": "display_data"
    }
   ],
   "source": [
    "defaults_by_history = cust_pd.groupby(['CREDIT_HISTORY','IS_DEFAULT']).size()\n",
    "percentages = defaults_by_history.groupby(level=0).apply(lambda x:100 * x / float(x.sum()))\n",
    "percentages.unstack().plot(kind='bar',stacked=True,color=['blue','red'],grid=False).legend(bbox_to_anchor=(1.2, 0.5))"
   ]
  },
  {
   "cell_type": "markdown",
   "metadata": {},
   "source": [
    "# Data Preparation"
   ]
  },
  {
   "cell_type": "code",
   "execution_count": 13,
   "metadata": {},
   "outputs": [
    {
     "data": {
      "text/html": [
       "<div>\n",
       "<style scoped>\n",
       "    .dataframe tbody tr th:only-of-type {\n",
       "        vertical-align: middle;\n",
       "    }\n",
       "\n",
       "    .dataframe tbody tr th {\n",
       "        vertical-align: top;\n",
       "    }\n",
       "\n",
       "    .dataframe thead th {\n",
       "        text-align: right;\n",
       "    }\n",
       "</style>\n",
       "<table border=\"1\" class=\"dataframe\">\n",
       "  <thead>\n",
       "    <tr style=\"text-align: right;\">\n",
       "      <th></th>\n",
       "      <th>EMI_TENURE</th>\n",
       "      <th>CREDIT_HISTORY</th>\n",
       "      <th>TRANSACTION_CATEGORY</th>\n",
       "      <th>TRANSACTION_AMOUNT</th>\n",
       "      <th>ACCOUNT_TYPE</th>\n",
       "      <th>ACCOUNT_AGE</th>\n",
       "      <th>STATE</th>\n",
       "      <th>IS_URBAN</th>\n",
       "      <th>IS_STATE_BORDER</th>\n",
       "      <th>HAS_CO_APPLICANT</th>\n",
       "      <th>HAS_GUARANTOR</th>\n",
       "      <th>OWN_REAL_ESTATE</th>\n",
       "      <th>OTHER_INSTALMENT_PLAN</th>\n",
       "      <th>OWN_RESIDENCE</th>\n",
       "      <th>NUMBER_CREDITS</th>\n",
       "      <th>RFM_SCORE</th>\n",
       "      <th>OWN_CAR</th>\n",
       "      <th>SHIP_INTERNATIONAL</th>\n",
       "      <th>IS_DEFAULT</th>\n",
       "    </tr>\n",
       "  </thead>\n",
       "  <tbody>\n",
       "    <tr>\n",
       "      <th>0</th>\n",
       "      <td>77</td>\n",
       "      <td>EXISTING CREDITS PAID BACK</td>\n",
       "      <td>EDUCATION</td>\n",
       "      <td>27630</td>\n",
       "      <td>UNKNOWN/NONE</td>\n",
       "      <td>above 7 YRS</td>\n",
       "      <td>CT</td>\n",
       "      <td>NO</td>\n",
       "      <td>YES</td>\n",
       "      <td>YES</td>\n",
       "      <td>YES</td>\n",
       "      <td>NO</td>\n",
       "      <td>YES</td>\n",
       "      <td>NO</td>\n",
       "      <td>0</td>\n",
       "      <td>4</td>\n",
       "      <td>NO</td>\n",
       "      <td>NO</td>\n",
       "      <td>No</td>\n",
       "    </tr>\n",
       "    <tr>\n",
       "      <th>1</th>\n",
       "      <td>119</td>\n",
       "      <td>EXISTING CREDITS PAID BACK</td>\n",
       "      <td>ELECTRONICS</td>\n",
       "      <td>31314</td>\n",
       "      <td>above 1000 K USD</td>\n",
       "      <td>4 to 7 YRS</td>\n",
       "      <td>CT</td>\n",
       "      <td>YES</td>\n",
       "      <td>YES</td>\n",
       "      <td>YES</td>\n",
       "      <td>YES</td>\n",
       "      <td>NO</td>\n",
       "      <td>NO</td>\n",
       "      <td>YES</td>\n",
       "      <td>0</td>\n",
       "      <td>3</td>\n",
       "      <td>YES</td>\n",
       "      <td>YES</td>\n",
       "      <td>No</td>\n",
       "    </tr>\n",
       "    <tr>\n",
       "      <th>2</th>\n",
       "      <td>84</td>\n",
       "      <td>EXISTING CREDITS PAID BACK</td>\n",
       "      <td>FURNITURE</td>\n",
       "      <td>27630</td>\n",
       "      <td>above 1000 K USD</td>\n",
       "      <td>4 to 7 YRS</td>\n",
       "      <td>PA</td>\n",
       "      <td>NO</td>\n",
       "      <td>NO</td>\n",
       "      <td>YES</td>\n",
       "      <td>YES</td>\n",
       "      <td>YES</td>\n",
       "      <td>NO</td>\n",
       "      <td>YES</td>\n",
       "      <td>0</td>\n",
       "      <td>3</td>\n",
       "      <td>YES</td>\n",
       "      <td>YES</td>\n",
       "      <td>No</td>\n",
       "    </tr>\n",
       "    <tr>\n",
       "      <th>3</th>\n",
       "      <td>119</td>\n",
       "      <td>DELAY IN PAST</td>\n",
       "      <td>FURNITURE</td>\n",
       "      <td>33156</td>\n",
       "      <td>above 1000 K USD</td>\n",
       "      <td>up to 1 YR</td>\n",
       "      <td>PA</td>\n",
       "      <td>YES</td>\n",
       "      <td>NO</td>\n",
       "      <td>YES</td>\n",
       "      <td>NO</td>\n",
       "      <td>NO</td>\n",
       "      <td>NO</td>\n",
       "      <td>YES</td>\n",
       "      <td>0</td>\n",
       "      <td>3</td>\n",
       "      <td>NO</td>\n",
       "      <td>NO</td>\n",
       "      <td>Yes</td>\n",
       "    </tr>\n",
       "    <tr>\n",
       "      <th>4</th>\n",
       "      <td>105</td>\n",
       "      <td>DELAY IN PAST</td>\n",
       "      <td>FURNITURE</td>\n",
       "      <td>23946</td>\n",
       "      <td>above 1000 K USD</td>\n",
       "      <td>up to 1 YR</td>\n",
       "      <td>CT</td>\n",
       "      <td>NO</td>\n",
       "      <td>YES</td>\n",
       "      <td>YES</td>\n",
       "      <td>YES</td>\n",
       "      <td>YES</td>\n",
       "      <td>YES</td>\n",
       "      <td>NO</td>\n",
       "      <td>0</td>\n",
       "      <td>3</td>\n",
       "      <td>YES</td>\n",
       "      <td>YES</td>\n",
       "      <td>No</td>\n",
       "    </tr>\n",
       "  </tbody>\n",
       "</table>\n",
       "</div>"
      ],
      "text/plain": [
       "   EMI_TENURE              CREDIT_HISTORY TRANSACTION_CATEGORY  \\\n",
       "0          77  EXISTING CREDITS PAID BACK            EDUCATION   \n",
       "1         119  EXISTING CREDITS PAID BACK          ELECTRONICS   \n",
       "2          84  EXISTING CREDITS PAID BACK            FURNITURE   \n",
       "3         119               DELAY IN PAST            FURNITURE   \n",
       "4         105               DELAY IN PAST            FURNITURE   \n",
       "\n",
       "   TRANSACTION_AMOUNT      ACCOUNT_TYPE  ACCOUNT_AGE STATE IS_URBAN  \\\n",
       "0               27630      UNKNOWN/NONE  above 7 YRS    CT       NO   \n",
       "1               31314  above 1000 K USD   4 to 7 YRS    CT      YES   \n",
       "2               27630  above 1000 K USD   4 to 7 YRS    PA       NO   \n",
       "3               33156  above 1000 K USD   up to 1 YR    PA      YES   \n",
       "4               23946  above 1000 K USD   up to 1 YR    CT       NO   \n",
       "\n",
       "  IS_STATE_BORDER HAS_CO_APPLICANT HAS_GUARANTOR OWN_REAL_ESTATE  \\\n",
       "0             YES              YES           YES              NO   \n",
       "1             YES              YES           YES              NO   \n",
       "2              NO              YES           YES             YES   \n",
       "3              NO              YES            NO              NO   \n",
       "4             YES              YES           YES             YES   \n",
       "\n",
       "  OTHER_INSTALMENT_PLAN OWN_RESIDENCE  NUMBER_CREDITS  RFM_SCORE OWN_CAR  \\\n",
       "0                   YES            NO               0          4      NO   \n",
       "1                    NO           YES               0          3     YES   \n",
       "2                    NO           YES               0          3     YES   \n",
       "3                    NO           YES               0          3      NO   \n",
       "4                   YES            NO               0          3     YES   \n",
       "\n",
       "  SHIP_INTERNATIONAL IS_DEFAULT  \n",
       "0                 NO         No  \n",
       "1                YES         No  \n",
       "2                YES         No  \n",
       "3                 NO        Yes  \n",
       "4                YES         No  "
      ]
     },
     "execution_count": 13,
     "metadata": {},
     "output_type": "execute_result"
    }
   ],
   "source": [
    "#cust_pd = cust_pd.sort_values(['IS_DEFAULT'],ascending=[False])\n",
    "#cust_pd = shuffle(cust_pd)\n",
    "cust_pd = cust_pd_full\n",
    "cust_pd.head()\n"
   ]
  },
  {
   "cell_type": "markdown",
   "metadata": {},
   "source": [
    "## Split Dataframe into Features and Label"
   ]
  },
  {
   "cell_type": "code",
   "execution_count": 14,
   "metadata": {},
   "outputs": [
    {
     "name": "stdout",
     "output_type": "stream",
     "text": [
      "cust_pd_X.shape= (10000000, 18) cust_pd_Y.shape= (10000000, 1)\n"
     ]
    }
   ],
   "source": [
    "cust_pd_Y = cust_pd[['IS_DEFAULT']]\n",
    "cust_pd_X = cust_pd.drop(['IS_DEFAULT'],axis=1)\n",
    "\n",
    "print('cust_pd_X.shape=', cust_pd_X.shape, 'cust_pd_Y.shape=', cust_pd_Y.shape)\n"
   ]
  },
  {
   "cell_type": "markdown",
   "metadata": {},
   "source": [
    "### Transform Label"
   ]
  },
  {
   "cell_type": "code",
   "execution_count": null,
   "metadata": {},
   "outputs": [],
   "source": [
    "## Install NbExtensions\n",
    "\n",
    "pip install jupyter_contrib_nbextensions\n",
    "jupyter contrib nbextension install --user"
   ]
  },
  {
   "cell_type": "code",
   "execution_count": 15,
   "metadata": {},
   "outputs": [
    {
     "data": {
      "text/html": [
       "<div>\n",
       "<style scoped>\n",
       "    .dataframe tbody tr th:only-of-type {\n",
       "        vertical-align: middle;\n",
       "    }\n",
       "\n",
       "    .dataframe tbody tr th {\n",
       "        vertical-align: top;\n",
       "    }\n",
       "\n",
       "    .dataframe thead th {\n",
       "        text-align: right;\n",
       "    }\n",
       "</style>\n",
       "<table border=\"1\" class=\"dataframe\">\n",
       "  <thead>\n",
       "    <tr style=\"text-align: right;\">\n",
       "      <th></th>\n",
       "      <th>IS_DEFAULT</th>\n",
       "    </tr>\n",
       "  </thead>\n",
       "  <tbody>\n",
       "    <tr>\n",
       "      <th>0</th>\n",
       "      <td>No</td>\n",
       "    </tr>\n",
       "    <tr>\n",
       "      <th>1</th>\n",
       "      <td>No</td>\n",
       "    </tr>\n",
       "    <tr>\n",
       "      <th>2</th>\n",
       "      <td>No</td>\n",
       "    </tr>\n",
       "    <tr>\n",
       "      <th>3</th>\n",
       "      <td>Yes</td>\n",
       "    </tr>\n",
       "    <tr>\n",
       "      <th>4</th>\n",
       "      <td>No</td>\n",
       "    </tr>\n",
       "  </tbody>\n",
       "</table>\n",
       "</div>"
      ],
      "text/plain": [
       "  IS_DEFAULT\n",
       "0         No\n",
       "1         No\n",
       "2         No\n",
       "3        Yes\n",
       "4         No"
      ]
     },
     "execution_count": 15,
     "metadata": {},
     "output_type": "execute_result"
    }
   ],
   "source": [
    "cust_pd_Y.head()"
   ]
  },
  {
   "cell_type": "code",
   "execution_count": 16,
   "metadata": {},
   "outputs": [
    {
     "data": {
      "text/html": [
       "<div>\n",
       "<style scoped>\n",
       "    .dataframe tbody tr th:only-of-type {\n",
       "        vertical-align: middle;\n",
       "    }\n",
       "\n",
       "    .dataframe tbody tr th {\n",
       "        vertical-align: top;\n",
       "    }\n",
       "\n",
       "    .dataframe thead th {\n",
       "        text-align: right;\n",
       "    }\n",
       "</style>\n",
       "<table border=\"1\" class=\"dataframe\">\n",
       "  <thead>\n",
       "    <tr style=\"text-align: right;\">\n",
       "      <th></th>\n",
       "      <th>IS_DEFAULT</th>\n",
       "    </tr>\n",
       "  </thead>\n",
       "  <tbody>\n",
       "    <tr>\n",
       "      <th>0</th>\n",
       "      <td>0</td>\n",
       "    </tr>\n",
       "    <tr>\n",
       "      <th>1</th>\n",
       "      <td>0</td>\n",
       "    </tr>\n",
       "    <tr>\n",
       "      <th>2</th>\n",
       "      <td>0</td>\n",
       "    </tr>\n",
       "    <tr>\n",
       "      <th>3</th>\n",
       "      <td>1</td>\n",
       "    </tr>\n",
       "    <tr>\n",
       "      <th>4</th>\n",
       "      <td>0</td>\n",
       "    </tr>\n",
       "  </tbody>\n",
       "</table>\n",
       "</div>"
      ],
      "text/plain": [
       "   IS_DEFAULT\n",
       "0           0\n",
       "1           0\n",
       "2           0\n",
       "3           1\n",
       "4           0"
      ]
     },
     "execution_count": 16,
     "metadata": {},
     "output_type": "execute_result"
    }
   ],
   "source": [
    "le = LabelEncoder()\n",
    "cust_pd_Y['IS_DEFAULT'] = le.fit_transform(cust_pd_Y['IS_DEFAULT'])\n",
    "cust_pd_Y.head()"
   ]
  },
  {
   "cell_type": "markdown",
   "metadata": {},
   "source": [
    "## Transform Features"
   ]
  },
  {
   "cell_type": "code",
   "execution_count": 17,
   "metadata": {},
   "outputs": [
    {
     "name": "stdout",
     "output_type": "stream",
     "text": [
      "features df shape =  (10000000, 18)\n"
     ]
    },
    {
     "data": {
      "text/html": [
       "<div>\n",
       "<style scoped>\n",
       "    .dataframe tbody tr th:only-of-type {\n",
       "        vertical-align: middle;\n",
       "    }\n",
       "\n",
       "    .dataframe tbody tr th {\n",
       "        vertical-align: top;\n",
       "    }\n",
       "\n",
       "    .dataframe thead th {\n",
       "        text-align: right;\n",
       "    }\n",
       "</style>\n",
       "<table border=\"1\" class=\"dataframe\">\n",
       "  <thead>\n",
       "    <tr style=\"text-align: right;\">\n",
       "      <th></th>\n",
       "      <th>EMI_TENURE</th>\n",
       "      <th>CREDIT_HISTORY</th>\n",
       "      <th>TRANSACTION_CATEGORY</th>\n",
       "      <th>TRANSACTION_AMOUNT</th>\n",
       "      <th>ACCOUNT_TYPE</th>\n",
       "      <th>ACCOUNT_AGE</th>\n",
       "      <th>STATE</th>\n",
       "      <th>IS_URBAN</th>\n",
       "      <th>IS_STATE_BORDER</th>\n",
       "      <th>HAS_CO_APPLICANT</th>\n",
       "      <th>HAS_GUARANTOR</th>\n",
       "      <th>OWN_REAL_ESTATE</th>\n",
       "      <th>OTHER_INSTALMENT_PLAN</th>\n",
       "      <th>OWN_RESIDENCE</th>\n",
       "      <th>NUMBER_CREDITS</th>\n",
       "      <th>RFM_SCORE</th>\n",
       "      <th>OWN_CAR</th>\n",
       "      <th>SHIP_INTERNATIONAL</th>\n",
       "    </tr>\n",
       "  </thead>\n",
       "  <tbody>\n",
       "    <tr>\n",
       "      <th>0</th>\n",
       "      <td>77</td>\n",
       "      <td>EXISTING CREDITS PAID BACK</td>\n",
       "      <td>EDUCATION</td>\n",
       "      <td>27630</td>\n",
       "      <td>UNKNOWN/NONE</td>\n",
       "      <td>above 7 YRS</td>\n",
       "      <td>CT</td>\n",
       "      <td>NO</td>\n",
       "      <td>YES</td>\n",
       "      <td>YES</td>\n",
       "      <td>YES</td>\n",
       "      <td>NO</td>\n",
       "      <td>YES</td>\n",
       "      <td>NO</td>\n",
       "      <td>0</td>\n",
       "      <td>4</td>\n",
       "      <td>NO</td>\n",
       "      <td>NO</td>\n",
       "    </tr>\n",
       "    <tr>\n",
       "      <th>1</th>\n",
       "      <td>119</td>\n",
       "      <td>EXISTING CREDITS PAID BACK</td>\n",
       "      <td>ELECTRONICS</td>\n",
       "      <td>31314</td>\n",
       "      <td>above 1000 K USD</td>\n",
       "      <td>4 to 7 YRS</td>\n",
       "      <td>CT</td>\n",
       "      <td>YES</td>\n",
       "      <td>YES</td>\n",
       "      <td>YES</td>\n",
       "      <td>YES</td>\n",
       "      <td>NO</td>\n",
       "      <td>NO</td>\n",
       "      <td>YES</td>\n",
       "      <td>0</td>\n",
       "      <td>3</td>\n",
       "      <td>YES</td>\n",
       "      <td>YES</td>\n",
       "    </tr>\n",
       "    <tr>\n",
       "      <th>2</th>\n",
       "      <td>84</td>\n",
       "      <td>EXISTING CREDITS PAID BACK</td>\n",
       "      <td>FURNITURE</td>\n",
       "      <td>27630</td>\n",
       "      <td>above 1000 K USD</td>\n",
       "      <td>4 to 7 YRS</td>\n",
       "      <td>PA</td>\n",
       "      <td>NO</td>\n",
       "      <td>NO</td>\n",
       "      <td>YES</td>\n",
       "      <td>YES</td>\n",
       "      <td>YES</td>\n",
       "      <td>NO</td>\n",
       "      <td>YES</td>\n",
       "      <td>0</td>\n",
       "      <td>3</td>\n",
       "      <td>YES</td>\n",
       "      <td>YES</td>\n",
       "    </tr>\n",
       "    <tr>\n",
       "      <th>3</th>\n",
       "      <td>119</td>\n",
       "      <td>DELAY IN PAST</td>\n",
       "      <td>FURNITURE</td>\n",
       "      <td>33156</td>\n",
       "      <td>above 1000 K USD</td>\n",
       "      <td>up to 1 YR</td>\n",
       "      <td>PA</td>\n",
       "      <td>YES</td>\n",
       "      <td>NO</td>\n",
       "      <td>YES</td>\n",
       "      <td>NO</td>\n",
       "      <td>NO</td>\n",
       "      <td>NO</td>\n",
       "      <td>YES</td>\n",
       "      <td>0</td>\n",
       "      <td>3</td>\n",
       "      <td>NO</td>\n",
       "      <td>NO</td>\n",
       "    </tr>\n",
       "    <tr>\n",
       "      <th>4</th>\n",
       "      <td>105</td>\n",
       "      <td>DELAY IN PAST</td>\n",
       "      <td>FURNITURE</td>\n",
       "      <td>23946</td>\n",
       "      <td>above 1000 K USD</td>\n",
       "      <td>up to 1 YR</td>\n",
       "      <td>CT</td>\n",
       "      <td>NO</td>\n",
       "      <td>YES</td>\n",
       "      <td>YES</td>\n",
       "      <td>YES</td>\n",
       "      <td>YES</td>\n",
       "      <td>YES</td>\n",
       "      <td>NO</td>\n",
       "      <td>0</td>\n",
       "      <td>3</td>\n",
       "      <td>YES</td>\n",
       "      <td>YES</td>\n",
       "    </tr>\n",
       "  </tbody>\n",
       "</table>\n",
       "</div>"
      ],
      "text/plain": [
       "   EMI_TENURE              CREDIT_HISTORY TRANSACTION_CATEGORY  \\\n",
       "0          77  EXISTING CREDITS PAID BACK            EDUCATION   \n",
       "1         119  EXISTING CREDITS PAID BACK          ELECTRONICS   \n",
       "2          84  EXISTING CREDITS PAID BACK            FURNITURE   \n",
       "3         119               DELAY IN PAST            FURNITURE   \n",
       "4         105               DELAY IN PAST            FURNITURE   \n",
       "\n",
       "   TRANSACTION_AMOUNT      ACCOUNT_TYPE  ACCOUNT_AGE STATE IS_URBAN  \\\n",
       "0               27630      UNKNOWN/NONE  above 7 YRS    CT       NO   \n",
       "1               31314  above 1000 K USD   4 to 7 YRS    CT      YES   \n",
       "2               27630  above 1000 K USD   4 to 7 YRS    PA       NO   \n",
       "3               33156  above 1000 K USD   up to 1 YR    PA      YES   \n",
       "4               23946  above 1000 K USD   up to 1 YR    CT       NO   \n",
       "\n",
       "  IS_STATE_BORDER HAS_CO_APPLICANT HAS_GUARANTOR OWN_REAL_ESTATE  \\\n",
       "0             YES              YES           YES              NO   \n",
       "1             YES              YES           YES              NO   \n",
       "2              NO              YES           YES             YES   \n",
       "3              NO              YES            NO              NO   \n",
       "4             YES              YES           YES             YES   \n",
       "\n",
       "  OTHER_INSTALMENT_PLAN OWN_RESIDENCE  NUMBER_CREDITS  RFM_SCORE OWN_CAR  \\\n",
       "0                   YES            NO               0          4      NO   \n",
       "1                    NO           YES               0          3     YES   \n",
       "2                    NO           YES               0          3     YES   \n",
       "3                    NO           YES               0          3      NO   \n",
       "4                   YES            NO               0          3     YES   \n",
       "\n",
       "  SHIP_INTERNATIONAL  \n",
       "0                 NO  \n",
       "1                YES  \n",
       "2                YES  \n",
       "3                 NO  \n",
       "4                YES  "
      ]
     },
     "execution_count": 17,
     "metadata": {},
     "output_type": "execute_result"
    }
   ],
   "source": [
    "print('features df shape = ', cust_pd_X.shape)\n",
    "cust_pd_X.head()"
   ]
  },
  {
   "cell_type": "markdown",
   "metadata": {},
   "source": [
    "### One hot encoding for categorical Columns"
   ]
  },
  {
   "cell_type": "code",
   "execution_count": 18,
   "metadata": {},
   "outputs": [
    {
     "data": {
      "text/html": [
       "<div>\n",
       "<style scoped>\n",
       "    .dataframe tbody tr th:only-of-type {\n",
       "        vertical-align: middle;\n",
       "    }\n",
       "\n",
       "    .dataframe tbody tr th {\n",
       "        vertical-align: top;\n",
       "    }\n",
       "\n",
       "    .dataframe thead th {\n",
       "        text-align: right;\n",
       "    }\n",
       "</style>\n",
       "<table border=\"1\" class=\"dataframe\">\n",
       "  <thead>\n",
       "    <tr style=\"text-align: right;\">\n",
       "      <th></th>\n",
       "      <th>EMI_TENURE</th>\n",
       "      <th>TRANSACTION_AMOUNT</th>\n",
       "      <th>NUMBER_CREDITS</th>\n",
       "      <th>CREDIT_HISTORY_ALL CREDITS PAID BACK</th>\n",
       "      <th>CREDIT_HISTORY_CRITICAL ACCOUNT</th>\n",
       "      <th>CREDIT_HISTORY_DELAY IN PAST</th>\n",
       "      <th>CREDIT_HISTORY_EXISTING CREDITS PAID BACK</th>\n",
       "      <th>CREDIT_HISTORY_NONE TAKEN</th>\n",
       "      <th>TRANSACTION_CATEGORY_EDUCATION</th>\n",
       "      <th>TRANSACTION_CATEGORY_ELECTRONICS</th>\n",
       "      <th>TRANSACTION_CATEGORY_FURNITURE</th>\n",
       "      <th>TRANSACTION_CATEGORY_NEW CAR</th>\n",
       "      <th>TRANSACTION_CATEGORY_OTHER</th>\n",
       "      <th>TRANSACTION_CATEGORY_RETRAINING</th>\n",
       "      <th>TRANSACTION_CATEGORY_USED CAR</th>\n",
       "      <th>ACCOUNT_TYPE_100 to 500 K USD</th>\n",
       "      <th>ACCOUNT_TYPE_500 to 1000 K USD</th>\n",
       "      <th>ACCOUNT_TYPE_UNKNOWN/NONE</th>\n",
       "      <th>ACCOUNT_TYPE_above 1000 K USD</th>\n",
       "      <th>ACCOUNT_TYPE_up to 100 K USD</th>\n",
       "      <th>ACCOUNT_AGE_1 to 4 YRS</th>\n",
       "      <th>ACCOUNT_AGE_4 to 7 YRS</th>\n",
       "      <th>ACCOUNT_AGE_TBD</th>\n",
       "      <th>ACCOUNT_AGE_above 7 YRS</th>\n",
       "      <th>ACCOUNT_AGE_up to 1 YR</th>\n",
       "      <th>STATE_CT</th>\n",
       "      <th>STATE_NJ</th>\n",
       "      <th>STATE_NY</th>\n",
       "      <th>STATE_PA</th>\n",
       "      <th>IS_URBAN_NO</th>\n",
       "      <th>IS_URBAN_YES</th>\n",
       "      <th>IS_STATE_BORDER_NO</th>\n",
       "      <th>IS_STATE_BORDER_YES</th>\n",
       "      <th>HAS_CO_APPLICANT_NO</th>\n",
       "      <th>HAS_CO_APPLICANT_YES</th>\n",
       "      <th>HAS_GUARANTOR_NO</th>\n",
       "      <th>HAS_GUARANTOR_YES</th>\n",
       "      <th>OWN_REAL_ESTATE_NO</th>\n",
       "      <th>OWN_REAL_ESTATE_YES</th>\n",
       "      <th>OTHER_INSTALMENT_PLAN_NO</th>\n",
       "      <th>OTHER_INSTALMENT_PLAN_YES</th>\n",
       "      <th>OWN_RESIDENCE_NO</th>\n",
       "      <th>OWN_RESIDENCE_YES</th>\n",
       "      <th>RFM_SCORE_1</th>\n",
       "      <th>RFM_SCORE_2</th>\n",
       "      <th>RFM_SCORE_3</th>\n",
       "      <th>RFM_SCORE_4</th>\n",
       "      <th>OWN_CAR_NO</th>\n",
       "      <th>OWN_CAR_YES</th>\n",
       "      <th>SHIP_INTERNATIONAL_NO</th>\n",
       "      <th>SHIP_INTERNATIONAL_YES</th>\n",
       "    </tr>\n",
       "  </thead>\n",
       "  <tbody>\n",
       "    <tr>\n",
       "      <th>0</th>\n",
       "      <td>77</td>\n",
       "      <td>27630</td>\n",
       "      <td>0</td>\n",
       "      <td>0</td>\n",
       "      <td>0</td>\n",
       "      <td>0</td>\n",
       "      <td>1</td>\n",
       "      <td>0</td>\n",
       "      <td>1</td>\n",
       "      <td>0</td>\n",
       "      <td>0</td>\n",
       "      <td>0</td>\n",
       "      <td>0</td>\n",
       "      <td>0</td>\n",
       "      <td>0</td>\n",
       "      <td>0</td>\n",
       "      <td>0</td>\n",
       "      <td>1</td>\n",
       "      <td>0</td>\n",
       "      <td>0</td>\n",
       "      <td>0</td>\n",
       "      <td>0</td>\n",
       "      <td>0</td>\n",
       "      <td>1</td>\n",
       "      <td>0</td>\n",
       "      <td>1</td>\n",
       "      <td>0</td>\n",
       "      <td>0</td>\n",
       "      <td>0</td>\n",
       "      <td>1</td>\n",
       "      <td>0</td>\n",
       "      <td>0</td>\n",
       "      <td>1</td>\n",
       "      <td>0</td>\n",
       "      <td>1</td>\n",
       "      <td>0</td>\n",
       "      <td>1</td>\n",
       "      <td>1</td>\n",
       "      <td>0</td>\n",
       "      <td>0</td>\n",
       "      <td>1</td>\n",
       "      <td>1</td>\n",
       "      <td>0</td>\n",
       "      <td>0</td>\n",
       "      <td>0</td>\n",
       "      <td>0</td>\n",
       "      <td>1</td>\n",
       "      <td>1</td>\n",
       "      <td>0</td>\n",
       "      <td>1</td>\n",
       "      <td>0</td>\n",
       "    </tr>\n",
       "    <tr>\n",
       "      <th>1</th>\n",
       "      <td>119</td>\n",
       "      <td>31314</td>\n",
       "      <td>0</td>\n",
       "      <td>0</td>\n",
       "      <td>0</td>\n",
       "      <td>0</td>\n",
       "      <td>1</td>\n",
       "      <td>0</td>\n",
       "      <td>0</td>\n",
       "      <td>1</td>\n",
       "      <td>0</td>\n",
       "      <td>0</td>\n",
       "      <td>0</td>\n",
       "      <td>0</td>\n",
       "      <td>0</td>\n",
       "      <td>0</td>\n",
       "      <td>0</td>\n",
       "      <td>0</td>\n",
       "      <td>1</td>\n",
       "      <td>0</td>\n",
       "      <td>0</td>\n",
       "      <td>1</td>\n",
       "      <td>0</td>\n",
       "      <td>0</td>\n",
       "      <td>0</td>\n",
       "      <td>1</td>\n",
       "      <td>0</td>\n",
       "      <td>0</td>\n",
       "      <td>0</td>\n",
       "      <td>0</td>\n",
       "      <td>1</td>\n",
       "      <td>0</td>\n",
       "      <td>1</td>\n",
       "      <td>0</td>\n",
       "      <td>1</td>\n",
       "      <td>0</td>\n",
       "      <td>1</td>\n",
       "      <td>1</td>\n",
       "      <td>0</td>\n",
       "      <td>1</td>\n",
       "      <td>0</td>\n",
       "      <td>0</td>\n",
       "      <td>1</td>\n",
       "      <td>0</td>\n",
       "      <td>0</td>\n",
       "      <td>1</td>\n",
       "      <td>0</td>\n",
       "      <td>0</td>\n",
       "      <td>1</td>\n",
       "      <td>0</td>\n",
       "      <td>1</td>\n",
       "    </tr>\n",
       "    <tr>\n",
       "      <th>2</th>\n",
       "      <td>84</td>\n",
       "      <td>27630</td>\n",
       "      <td>0</td>\n",
       "      <td>0</td>\n",
       "      <td>0</td>\n",
       "      <td>0</td>\n",
       "      <td>1</td>\n",
       "      <td>0</td>\n",
       "      <td>0</td>\n",
       "      <td>0</td>\n",
       "      <td>1</td>\n",
       "      <td>0</td>\n",
       "      <td>0</td>\n",
       "      <td>0</td>\n",
       "      <td>0</td>\n",
       "      <td>0</td>\n",
       "      <td>0</td>\n",
       "      <td>0</td>\n",
       "      <td>1</td>\n",
       "      <td>0</td>\n",
       "      <td>0</td>\n",
       "      <td>1</td>\n",
       "      <td>0</td>\n",
       "      <td>0</td>\n",
       "      <td>0</td>\n",
       "      <td>0</td>\n",
       "      <td>0</td>\n",
       "      <td>0</td>\n",
       "      <td>1</td>\n",
       "      <td>1</td>\n",
       "      <td>0</td>\n",
       "      <td>1</td>\n",
       "      <td>0</td>\n",
       "      <td>0</td>\n",
       "      <td>1</td>\n",
       "      <td>0</td>\n",
       "      <td>1</td>\n",
       "      <td>0</td>\n",
       "      <td>1</td>\n",
       "      <td>1</td>\n",
       "      <td>0</td>\n",
       "      <td>0</td>\n",
       "      <td>1</td>\n",
       "      <td>0</td>\n",
       "      <td>0</td>\n",
       "      <td>1</td>\n",
       "      <td>0</td>\n",
       "      <td>0</td>\n",
       "      <td>1</td>\n",
       "      <td>0</td>\n",
       "      <td>1</td>\n",
       "    </tr>\n",
       "    <tr>\n",
       "      <th>3</th>\n",
       "      <td>119</td>\n",
       "      <td>33156</td>\n",
       "      <td>0</td>\n",
       "      <td>0</td>\n",
       "      <td>0</td>\n",
       "      <td>1</td>\n",
       "      <td>0</td>\n",
       "      <td>0</td>\n",
       "      <td>0</td>\n",
       "      <td>0</td>\n",
       "      <td>1</td>\n",
       "      <td>0</td>\n",
       "      <td>0</td>\n",
       "      <td>0</td>\n",
       "      <td>0</td>\n",
       "      <td>0</td>\n",
       "      <td>0</td>\n",
       "      <td>0</td>\n",
       "      <td>1</td>\n",
       "      <td>0</td>\n",
       "      <td>0</td>\n",
       "      <td>0</td>\n",
       "      <td>0</td>\n",
       "      <td>0</td>\n",
       "      <td>1</td>\n",
       "      <td>0</td>\n",
       "      <td>0</td>\n",
       "      <td>0</td>\n",
       "      <td>1</td>\n",
       "      <td>0</td>\n",
       "      <td>1</td>\n",
       "      <td>1</td>\n",
       "      <td>0</td>\n",
       "      <td>0</td>\n",
       "      <td>1</td>\n",
       "      <td>1</td>\n",
       "      <td>0</td>\n",
       "      <td>1</td>\n",
       "      <td>0</td>\n",
       "      <td>1</td>\n",
       "      <td>0</td>\n",
       "      <td>0</td>\n",
       "      <td>1</td>\n",
       "      <td>0</td>\n",
       "      <td>0</td>\n",
       "      <td>1</td>\n",
       "      <td>0</td>\n",
       "      <td>1</td>\n",
       "      <td>0</td>\n",
       "      <td>1</td>\n",
       "      <td>0</td>\n",
       "    </tr>\n",
       "    <tr>\n",
       "      <th>4</th>\n",
       "      <td>105</td>\n",
       "      <td>23946</td>\n",
       "      <td>0</td>\n",
       "      <td>0</td>\n",
       "      <td>0</td>\n",
       "      <td>1</td>\n",
       "      <td>0</td>\n",
       "      <td>0</td>\n",
       "      <td>0</td>\n",
       "      <td>0</td>\n",
       "      <td>1</td>\n",
       "      <td>0</td>\n",
       "      <td>0</td>\n",
       "      <td>0</td>\n",
       "      <td>0</td>\n",
       "      <td>0</td>\n",
       "      <td>0</td>\n",
       "      <td>0</td>\n",
       "      <td>1</td>\n",
       "      <td>0</td>\n",
       "      <td>0</td>\n",
       "      <td>0</td>\n",
       "      <td>0</td>\n",
       "      <td>0</td>\n",
       "      <td>1</td>\n",
       "      <td>1</td>\n",
       "      <td>0</td>\n",
       "      <td>0</td>\n",
       "      <td>0</td>\n",
       "      <td>1</td>\n",
       "      <td>0</td>\n",
       "      <td>0</td>\n",
       "      <td>1</td>\n",
       "      <td>0</td>\n",
       "      <td>1</td>\n",
       "      <td>0</td>\n",
       "      <td>1</td>\n",
       "      <td>0</td>\n",
       "      <td>1</td>\n",
       "      <td>0</td>\n",
       "      <td>1</td>\n",
       "      <td>1</td>\n",
       "      <td>0</td>\n",
       "      <td>0</td>\n",
       "      <td>0</td>\n",
       "      <td>1</td>\n",
       "      <td>0</td>\n",
       "      <td>0</td>\n",
       "      <td>1</td>\n",
       "      <td>0</td>\n",
       "      <td>1</td>\n",
       "    </tr>\n",
       "  </tbody>\n",
       "</table>\n",
       "</div>"
      ],
      "text/plain": [
       "   EMI_TENURE  TRANSACTION_AMOUNT  NUMBER_CREDITS  \\\n",
       "0          77               27630               0   \n",
       "1         119               31314               0   \n",
       "2          84               27630               0   \n",
       "3         119               33156               0   \n",
       "4         105               23946               0   \n",
       "\n",
       "   CREDIT_HISTORY_ALL CREDITS PAID BACK  CREDIT_HISTORY_CRITICAL ACCOUNT  \\\n",
       "0                                     0                                0   \n",
       "1                                     0                                0   \n",
       "2                                     0                                0   \n",
       "3                                     0                                0   \n",
       "4                                     0                                0   \n",
       "\n",
       "   CREDIT_HISTORY_DELAY IN PAST  CREDIT_HISTORY_EXISTING CREDITS PAID BACK  \\\n",
       "0                             0                                          1   \n",
       "1                             0                                          1   \n",
       "2                             0                                          1   \n",
       "3                             1                                          0   \n",
       "4                             1                                          0   \n",
       "\n",
       "   CREDIT_HISTORY_NONE TAKEN  TRANSACTION_CATEGORY_EDUCATION  \\\n",
       "0                          0                               1   \n",
       "1                          0                               0   \n",
       "2                          0                               0   \n",
       "3                          0                               0   \n",
       "4                          0                               0   \n",
       "\n",
       "   TRANSACTION_CATEGORY_ELECTRONICS  TRANSACTION_CATEGORY_FURNITURE  \\\n",
       "0                                 0                               0   \n",
       "1                                 1                               0   \n",
       "2                                 0                               1   \n",
       "3                                 0                               1   \n",
       "4                                 0                               1   \n",
       "\n",
       "   TRANSACTION_CATEGORY_NEW CAR  TRANSACTION_CATEGORY_OTHER  \\\n",
       "0                             0                           0   \n",
       "1                             0                           0   \n",
       "2                             0                           0   \n",
       "3                             0                           0   \n",
       "4                             0                           0   \n",
       "\n",
       "   TRANSACTION_CATEGORY_RETRAINING  TRANSACTION_CATEGORY_USED CAR  \\\n",
       "0                                0                              0   \n",
       "1                                0                              0   \n",
       "2                                0                              0   \n",
       "3                                0                              0   \n",
       "4                                0                              0   \n",
       "\n",
       "   ACCOUNT_TYPE_100 to 500 K USD  ACCOUNT_TYPE_500 to 1000 K USD  \\\n",
       "0                              0                               0   \n",
       "1                              0                               0   \n",
       "2                              0                               0   \n",
       "3                              0                               0   \n",
       "4                              0                               0   \n",
       "\n",
       "   ACCOUNT_TYPE_UNKNOWN/NONE  ACCOUNT_TYPE_above 1000 K USD  \\\n",
       "0                          1                              0   \n",
       "1                          0                              1   \n",
       "2                          0                              1   \n",
       "3                          0                              1   \n",
       "4                          0                              1   \n",
       "\n",
       "   ACCOUNT_TYPE_up to 100 K USD  ACCOUNT_AGE_1 to 4 YRS  \\\n",
       "0                             0                       0   \n",
       "1                             0                       0   \n",
       "2                             0                       0   \n",
       "3                             0                       0   \n",
       "4                             0                       0   \n",
       "\n",
       "   ACCOUNT_AGE_4 to 7 YRS  ACCOUNT_AGE_TBD  ACCOUNT_AGE_above 7 YRS  \\\n",
       "0                       0                0                        1   \n",
       "1                       1                0                        0   \n",
       "2                       1                0                        0   \n",
       "3                       0                0                        0   \n",
       "4                       0                0                        0   \n",
       "\n",
       "   ACCOUNT_AGE_up to 1 YR  STATE_CT  STATE_NJ  STATE_NY  STATE_PA  \\\n",
       "0                       0         1         0         0         0   \n",
       "1                       0         1         0         0         0   \n",
       "2                       0         0         0         0         1   \n",
       "3                       1         0         0         0         1   \n",
       "4                       1         1         0         0         0   \n",
       "\n",
       "   IS_URBAN_NO  IS_URBAN_YES  IS_STATE_BORDER_NO  IS_STATE_BORDER_YES  \\\n",
       "0            1             0                   0                    1   \n",
       "1            0             1                   0                    1   \n",
       "2            1             0                   1                    0   \n",
       "3            0             1                   1                    0   \n",
       "4            1             0                   0                    1   \n",
       "\n",
       "   HAS_CO_APPLICANT_NO  HAS_CO_APPLICANT_YES  HAS_GUARANTOR_NO  \\\n",
       "0                    0                     1                 0   \n",
       "1                    0                     1                 0   \n",
       "2                    0                     1                 0   \n",
       "3                    0                     1                 1   \n",
       "4                    0                     1                 0   \n",
       "\n",
       "   HAS_GUARANTOR_YES  OWN_REAL_ESTATE_NO  OWN_REAL_ESTATE_YES  \\\n",
       "0                  1                   1                    0   \n",
       "1                  1                   1                    0   \n",
       "2                  1                   0                    1   \n",
       "3                  0                   1                    0   \n",
       "4                  1                   0                    1   \n",
       "\n",
       "   OTHER_INSTALMENT_PLAN_NO  OTHER_INSTALMENT_PLAN_YES  OWN_RESIDENCE_NO  \\\n",
       "0                         0                          1                 1   \n",
       "1                         1                          0                 0   \n",
       "2                         1                          0                 0   \n",
       "3                         1                          0                 0   \n",
       "4                         0                          1                 1   \n",
       "\n",
       "   OWN_RESIDENCE_YES  RFM_SCORE_1  RFM_SCORE_2  RFM_SCORE_3  RFM_SCORE_4  \\\n",
       "0                  0            0            0            0            1   \n",
       "1                  1            0            0            1            0   \n",
       "2                  1            0            0            1            0   \n",
       "3                  1            0            0            1            0   \n",
       "4                  0            0            0            1            0   \n",
       "\n",
       "   OWN_CAR_NO  OWN_CAR_YES  SHIP_INTERNATIONAL_NO  SHIP_INTERNATIONAL_YES  \n",
       "0           1            0                      1                       0  \n",
       "1           0            1                      0                       1  \n",
       "2           0            1                      0                       1  \n",
       "3           1            0                      1                       0  \n",
       "4           0            1                      0                       1  "
      ]
     },
     "execution_count": 18,
     "metadata": {},
     "output_type": "execute_result"
    }
   ],
   "source": [
    "categoricalColumns = ['CREDIT_HISTORY', 'TRANSACTION_CATEGORY', 'ACCOUNT_TYPE', 'ACCOUNT_AGE',\n",
    "                      'STATE', 'IS_URBAN', 'IS_STATE_BORDER', 'HAS_CO_APPLICANT', 'HAS_GUARANTOR',\n",
    "                      'OWN_REAL_ESTATE', 'OTHER_INSTALMENT_PLAN',\n",
    "                      'OWN_RESIDENCE', 'RFM_SCORE', 'OWN_CAR', 'SHIP_INTERNATIONAL']\n",
    "cust_pd_X = pd.get_dummies(cust_pd_X, columns=categoricalColumns)\n",
    "\n",
    "cust_pd_X.head()"
   ]
  },
  {
   "cell_type": "markdown",
   "metadata": {},
   "source": [
    "## Normalize Features"
   ]
  },
  {
   "cell_type": "code",
   "execution_count": 19,
   "metadata": {},
   "outputs": [
    {
     "data": {
      "text/html": [
       "<div>\n",
       "<style scoped>\n",
       "    .dataframe tbody tr th:only-of-type {\n",
       "        vertical-align: middle;\n",
       "    }\n",
       "\n",
       "    .dataframe tbody tr th {\n",
       "        vertical-align: top;\n",
       "    }\n",
       "\n",
       "    .dataframe thead th {\n",
       "        text-align: right;\n",
       "    }\n",
       "</style>\n",
       "<table border=\"1\" class=\"dataframe\">\n",
       "  <thead>\n",
       "    <tr style=\"text-align: right;\">\n",
       "      <th></th>\n",
       "      <th>EMI_TENURE</th>\n",
       "      <th>TRANSACTION_AMOUNT</th>\n",
       "      <th>NUMBER_CREDITS</th>\n",
       "      <th>CREDIT_HISTORY_ALL CREDITS PAID BACK</th>\n",
       "      <th>CREDIT_HISTORY_CRITICAL ACCOUNT</th>\n",
       "      <th>CREDIT_HISTORY_DELAY IN PAST</th>\n",
       "      <th>CREDIT_HISTORY_EXISTING CREDITS PAID BACK</th>\n",
       "      <th>CREDIT_HISTORY_NONE TAKEN</th>\n",
       "      <th>TRANSACTION_CATEGORY_EDUCATION</th>\n",
       "      <th>TRANSACTION_CATEGORY_ELECTRONICS</th>\n",
       "      <th>TRANSACTION_CATEGORY_FURNITURE</th>\n",
       "      <th>TRANSACTION_CATEGORY_NEW CAR</th>\n",
       "      <th>TRANSACTION_CATEGORY_OTHER</th>\n",
       "      <th>TRANSACTION_CATEGORY_RETRAINING</th>\n",
       "      <th>TRANSACTION_CATEGORY_USED CAR</th>\n",
       "      <th>ACCOUNT_TYPE_100 to 500 K USD</th>\n",
       "      <th>ACCOUNT_TYPE_500 to 1000 K USD</th>\n",
       "      <th>ACCOUNT_TYPE_UNKNOWN/NONE</th>\n",
       "      <th>ACCOUNT_TYPE_above 1000 K USD</th>\n",
       "      <th>ACCOUNT_TYPE_up to 100 K USD</th>\n",
       "      <th>ACCOUNT_AGE_1 to 4 YRS</th>\n",
       "      <th>ACCOUNT_AGE_4 to 7 YRS</th>\n",
       "      <th>ACCOUNT_AGE_TBD</th>\n",
       "      <th>ACCOUNT_AGE_above 7 YRS</th>\n",
       "      <th>ACCOUNT_AGE_up to 1 YR</th>\n",
       "      <th>STATE_CT</th>\n",
       "      <th>STATE_NJ</th>\n",
       "      <th>STATE_NY</th>\n",
       "      <th>STATE_PA</th>\n",
       "      <th>IS_URBAN_NO</th>\n",
       "      <th>IS_URBAN_YES</th>\n",
       "      <th>IS_STATE_BORDER_NO</th>\n",
       "      <th>IS_STATE_BORDER_YES</th>\n",
       "      <th>HAS_CO_APPLICANT_NO</th>\n",
       "      <th>HAS_CO_APPLICANT_YES</th>\n",
       "      <th>HAS_GUARANTOR_NO</th>\n",
       "      <th>HAS_GUARANTOR_YES</th>\n",
       "      <th>OWN_REAL_ESTATE_NO</th>\n",
       "      <th>OWN_REAL_ESTATE_YES</th>\n",
       "      <th>OTHER_INSTALMENT_PLAN_NO</th>\n",
       "      <th>OTHER_INSTALMENT_PLAN_YES</th>\n",
       "      <th>OWN_RESIDENCE_NO</th>\n",
       "      <th>OWN_RESIDENCE_YES</th>\n",
       "      <th>RFM_SCORE_1</th>\n",
       "      <th>RFM_SCORE_2</th>\n",
       "      <th>RFM_SCORE_3</th>\n",
       "      <th>RFM_SCORE_4</th>\n",
       "      <th>OWN_CAR_NO</th>\n",
       "      <th>OWN_CAR_YES</th>\n",
       "      <th>SHIP_INTERNATIONAL_NO</th>\n",
       "      <th>SHIP_INTERNATIONAL_YES</th>\n",
       "    </tr>\n",
       "  </thead>\n",
       "  <tbody>\n",
       "    <tr>\n",
       "      <th>0</th>\n",
       "      <td>0.027542</td>\n",
       "      <td>0.033533</td>\n",
       "      <td>0.0</td>\n",
       "      <td>0.0</td>\n",
       "      <td>0.0</td>\n",
       "      <td>0.000000</td>\n",
       "      <td>0.062595</td>\n",
       "      <td>0.0</td>\n",
       "      <td>0.062595</td>\n",
       "      <td>0.000000</td>\n",
       "      <td>0.000000</td>\n",
       "      <td>0.0</td>\n",
       "      <td>0.0</td>\n",
       "      <td>0.0</td>\n",
       "      <td>0.0</td>\n",
       "      <td>0.0</td>\n",
       "      <td>0.0</td>\n",
       "      <td>0.062595</td>\n",
       "      <td>0.000000</td>\n",
       "      <td>0.0</td>\n",
       "      <td>0.0</td>\n",
       "      <td>0.000000</td>\n",
       "      <td>0.0</td>\n",
       "      <td>0.062595</td>\n",
       "      <td>0.000000</td>\n",
       "      <td>0.062595</td>\n",
       "      <td>0.0</td>\n",
       "      <td>0.0</td>\n",
       "      <td>0.000000</td>\n",
       "      <td>0.062595</td>\n",
       "      <td>0.000000</td>\n",
       "      <td>0.000000</td>\n",
       "      <td>0.062595</td>\n",
       "      <td>0.0</td>\n",
       "      <td>0.062595</td>\n",
       "      <td>0.000000</td>\n",
       "      <td>0.062595</td>\n",
       "      <td>0.062595</td>\n",
       "      <td>0.000000</td>\n",
       "      <td>0.000000</td>\n",
       "      <td>0.062595</td>\n",
       "      <td>0.062595</td>\n",
       "      <td>0.000000</td>\n",
       "      <td>0.0</td>\n",
       "      <td>0.0</td>\n",
       "      <td>0.000000</td>\n",
       "      <td>0.062595</td>\n",
       "      <td>0.062595</td>\n",
       "      <td>0.000000</td>\n",
       "      <td>0.062595</td>\n",
       "      <td>0.000000</td>\n",
       "    </tr>\n",
       "    <tr>\n",
       "      <th>1</th>\n",
       "      <td>0.041751</td>\n",
       "      <td>0.037277</td>\n",
       "      <td>0.0</td>\n",
       "      <td>0.0</td>\n",
       "      <td>0.0</td>\n",
       "      <td>0.000000</td>\n",
       "      <td>0.061398</td>\n",
       "      <td>0.0</td>\n",
       "      <td>0.000000</td>\n",
       "      <td>0.061398</td>\n",
       "      <td>0.000000</td>\n",
       "      <td>0.0</td>\n",
       "      <td>0.0</td>\n",
       "      <td>0.0</td>\n",
       "      <td>0.0</td>\n",
       "      <td>0.0</td>\n",
       "      <td>0.0</td>\n",
       "      <td>0.000000</td>\n",
       "      <td>0.061398</td>\n",
       "      <td>0.0</td>\n",
       "      <td>0.0</td>\n",
       "      <td>0.061398</td>\n",
       "      <td>0.0</td>\n",
       "      <td>0.000000</td>\n",
       "      <td>0.000000</td>\n",
       "      <td>0.061398</td>\n",
       "      <td>0.0</td>\n",
       "      <td>0.0</td>\n",
       "      <td>0.000000</td>\n",
       "      <td>0.000000</td>\n",
       "      <td>0.061398</td>\n",
       "      <td>0.000000</td>\n",
       "      <td>0.061398</td>\n",
       "      <td>0.0</td>\n",
       "      <td>0.061398</td>\n",
       "      <td>0.000000</td>\n",
       "      <td>0.061398</td>\n",
       "      <td>0.061398</td>\n",
       "      <td>0.000000</td>\n",
       "      <td>0.061398</td>\n",
       "      <td>0.000000</td>\n",
       "      <td>0.000000</td>\n",
       "      <td>0.061398</td>\n",
       "      <td>0.0</td>\n",
       "      <td>0.0</td>\n",
       "      <td>0.061398</td>\n",
       "      <td>0.000000</td>\n",
       "      <td>0.000000</td>\n",
       "      <td>0.061398</td>\n",
       "      <td>0.000000</td>\n",
       "      <td>0.061398</td>\n",
       "    </tr>\n",
       "    <tr>\n",
       "      <th>2</th>\n",
       "      <td>0.029971</td>\n",
       "      <td>0.033449</td>\n",
       "      <td>0.0</td>\n",
       "      <td>0.0</td>\n",
       "      <td>0.0</td>\n",
       "      <td>0.000000</td>\n",
       "      <td>0.062439</td>\n",
       "      <td>0.0</td>\n",
       "      <td>0.000000</td>\n",
       "      <td>0.000000</td>\n",
       "      <td>0.062439</td>\n",
       "      <td>0.0</td>\n",
       "      <td>0.0</td>\n",
       "      <td>0.0</td>\n",
       "      <td>0.0</td>\n",
       "      <td>0.0</td>\n",
       "      <td>0.0</td>\n",
       "      <td>0.000000</td>\n",
       "      <td>0.062439</td>\n",
       "      <td>0.0</td>\n",
       "      <td>0.0</td>\n",
       "      <td>0.062439</td>\n",
       "      <td>0.0</td>\n",
       "      <td>0.000000</td>\n",
       "      <td>0.000000</td>\n",
       "      <td>0.000000</td>\n",
       "      <td>0.0</td>\n",
       "      <td>0.0</td>\n",
       "      <td>0.062439</td>\n",
       "      <td>0.062439</td>\n",
       "      <td>0.000000</td>\n",
       "      <td>0.062439</td>\n",
       "      <td>0.000000</td>\n",
       "      <td>0.0</td>\n",
       "      <td>0.062439</td>\n",
       "      <td>0.000000</td>\n",
       "      <td>0.062439</td>\n",
       "      <td>0.000000</td>\n",
       "      <td>0.062439</td>\n",
       "      <td>0.062439</td>\n",
       "      <td>0.000000</td>\n",
       "      <td>0.000000</td>\n",
       "      <td>0.062439</td>\n",
       "      <td>0.0</td>\n",
       "      <td>0.0</td>\n",
       "      <td>0.062439</td>\n",
       "      <td>0.000000</td>\n",
       "      <td>0.000000</td>\n",
       "      <td>0.062439</td>\n",
       "      <td>0.000000</td>\n",
       "      <td>0.062439</td>\n",
       "    </tr>\n",
       "    <tr>\n",
       "      <th>3</th>\n",
       "      <td>0.041659</td>\n",
       "      <td>0.039384</td>\n",
       "      <td>0.0</td>\n",
       "      <td>0.0</td>\n",
       "      <td>0.0</td>\n",
       "      <td>0.061264</td>\n",
       "      <td>0.000000</td>\n",
       "      <td>0.0</td>\n",
       "      <td>0.000000</td>\n",
       "      <td>0.000000</td>\n",
       "      <td>0.061264</td>\n",
       "      <td>0.0</td>\n",
       "      <td>0.0</td>\n",
       "      <td>0.0</td>\n",
       "      <td>0.0</td>\n",
       "      <td>0.0</td>\n",
       "      <td>0.0</td>\n",
       "      <td>0.000000</td>\n",
       "      <td>0.061264</td>\n",
       "      <td>0.0</td>\n",
       "      <td>0.0</td>\n",
       "      <td>0.000000</td>\n",
       "      <td>0.0</td>\n",
       "      <td>0.000000</td>\n",
       "      <td>0.061264</td>\n",
       "      <td>0.000000</td>\n",
       "      <td>0.0</td>\n",
       "      <td>0.0</td>\n",
       "      <td>0.061264</td>\n",
       "      <td>0.000000</td>\n",
       "      <td>0.061264</td>\n",
       "      <td>0.061264</td>\n",
       "      <td>0.000000</td>\n",
       "      <td>0.0</td>\n",
       "      <td>0.061264</td>\n",
       "      <td>0.061264</td>\n",
       "      <td>0.000000</td>\n",
       "      <td>0.061264</td>\n",
       "      <td>0.000000</td>\n",
       "      <td>0.061264</td>\n",
       "      <td>0.000000</td>\n",
       "      <td>0.000000</td>\n",
       "      <td>0.061264</td>\n",
       "      <td>0.0</td>\n",
       "      <td>0.0</td>\n",
       "      <td>0.061264</td>\n",
       "      <td>0.000000</td>\n",
       "      <td>0.061264</td>\n",
       "      <td>0.000000</td>\n",
       "      <td>0.061264</td>\n",
       "      <td>0.000000</td>\n",
       "    </tr>\n",
       "    <tr>\n",
       "      <th>4</th>\n",
       "      <td>0.037350</td>\n",
       "      <td>0.028902</td>\n",
       "      <td>0.0</td>\n",
       "      <td>0.0</td>\n",
       "      <td>0.0</td>\n",
       "      <td>0.062250</td>\n",
       "      <td>0.000000</td>\n",
       "      <td>0.0</td>\n",
       "      <td>0.000000</td>\n",
       "      <td>0.000000</td>\n",
       "      <td>0.062250</td>\n",
       "      <td>0.0</td>\n",
       "      <td>0.0</td>\n",
       "      <td>0.0</td>\n",
       "      <td>0.0</td>\n",
       "      <td>0.0</td>\n",
       "      <td>0.0</td>\n",
       "      <td>0.000000</td>\n",
       "      <td>0.062250</td>\n",
       "      <td>0.0</td>\n",
       "      <td>0.0</td>\n",
       "      <td>0.000000</td>\n",
       "      <td>0.0</td>\n",
       "      <td>0.000000</td>\n",
       "      <td>0.062250</td>\n",
       "      <td>0.062250</td>\n",
       "      <td>0.0</td>\n",
       "      <td>0.0</td>\n",
       "      <td>0.000000</td>\n",
       "      <td>0.062250</td>\n",
       "      <td>0.000000</td>\n",
       "      <td>0.000000</td>\n",
       "      <td>0.062250</td>\n",
       "      <td>0.0</td>\n",
       "      <td>0.062250</td>\n",
       "      <td>0.000000</td>\n",
       "      <td>0.062250</td>\n",
       "      <td>0.000000</td>\n",
       "      <td>0.062250</td>\n",
       "      <td>0.000000</td>\n",
       "      <td>0.062250</td>\n",
       "      <td>0.062250</td>\n",
       "      <td>0.000000</td>\n",
       "      <td>0.0</td>\n",
       "      <td>0.0</td>\n",
       "      <td>0.062250</td>\n",
       "      <td>0.000000</td>\n",
       "      <td>0.000000</td>\n",
       "      <td>0.062250</td>\n",
       "      <td>0.000000</td>\n",
       "      <td>0.062250</td>\n",
       "    </tr>\n",
       "  </tbody>\n",
       "</table>\n",
       "</div>"
      ],
      "text/plain": [
       "   EMI_TENURE  TRANSACTION_AMOUNT  NUMBER_CREDITS  \\\n",
       "0    0.027542            0.033533             0.0   \n",
       "1    0.041751            0.037277             0.0   \n",
       "2    0.029971            0.033449             0.0   \n",
       "3    0.041659            0.039384             0.0   \n",
       "4    0.037350            0.028902             0.0   \n",
       "\n",
       "   CREDIT_HISTORY_ALL CREDITS PAID BACK  CREDIT_HISTORY_CRITICAL ACCOUNT  \\\n",
       "0                                   0.0                              0.0   \n",
       "1                                   0.0                              0.0   \n",
       "2                                   0.0                              0.0   \n",
       "3                                   0.0                              0.0   \n",
       "4                                   0.0                              0.0   \n",
       "\n",
       "   CREDIT_HISTORY_DELAY IN PAST  CREDIT_HISTORY_EXISTING CREDITS PAID BACK  \\\n",
       "0                      0.000000                                   0.062595   \n",
       "1                      0.000000                                   0.061398   \n",
       "2                      0.000000                                   0.062439   \n",
       "3                      0.061264                                   0.000000   \n",
       "4                      0.062250                                   0.000000   \n",
       "\n",
       "   CREDIT_HISTORY_NONE TAKEN  TRANSACTION_CATEGORY_EDUCATION  \\\n",
       "0                        0.0                        0.062595   \n",
       "1                        0.0                        0.000000   \n",
       "2                        0.0                        0.000000   \n",
       "3                        0.0                        0.000000   \n",
       "4                        0.0                        0.000000   \n",
       "\n",
       "   TRANSACTION_CATEGORY_ELECTRONICS  TRANSACTION_CATEGORY_FURNITURE  \\\n",
       "0                          0.000000                        0.000000   \n",
       "1                          0.061398                        0.000000   \n",
       "2                          0.000000                        0.062439   \n",
       "3                          0.000000                        0.061264   \n",
       "4                          0.000000                        0.062250   \n",
       "\n",
       "   TRANSACTION_CATEGORY_NEW CAR  TRANSACTION_CATEGORY_OTHER  \\\n",
       "0                           0.0                         0.0   \n",
       "1                           0.0                         0.0   \n",
       "2                           0.0                         0.0   \n",
       "3                           0.0                         0.0   \n",
       "4                           0.0                         0.0   \n",
       "\n",
       "   TRANSACTION_CATEGORY_RETRAINING  TRANSACTION_CATEGORY_USED CAR  \\\n",
       "0                              0.0                            0.0   \n",
       "1                              0.0                            0.0   \n",
       "2                              0.0                            0.0   \n",
       "3                              0.0                            0.0   \n",
       "4                              0.0                            0.0   \n",
       "\n",
       "   ACCOUNT_TYPE_100 to 500 K USD  ACCOUNT_TYPE_500 to 1000 K USD  \\\n",
       "0                            0.0                             0.0   \n",
       "1                            0.0                             0.0   \n",
       "2                            0.0                             0.0   \n",
       "3                            0.0                             0.0   \n",
       "4                            0.0                             0.0   \n",
       "\n",
       "   ACCOUNT_TYPE_UNKNOWN/NONE  ACCOUNT_TYPE_above 1000 K USD  \\\n",
       "0                   0.062595                       0.000000   \n",
       "1                   0.000000                       0.061398   \n",
       "2                   0.000000                       0.062439   \n",
       "3                   0.000000                       0.061264   \n",
       "4                   0.000000                       0.062250   \n",
       "\n",
       "   ACCOUNT_TYPE_up to 100 K USD  ACCOUNT_AGE_1 to 4 YRS  \\\n",
       "0                           0.0                     0.0   \n",
       "1                           0.0                     0.0   \n",
       "2                           0.0                     0.0   \n",
       "3                           0.0                     0.0   \n",
       "4                           0.0                     0.0   \n",
       "\n",
       "   ACCOUNT_AGE_4 to 7 YRS  ACCOUNT_AGE_TBD  ACCOUNT_AGE_above 7 YRS  \\\n",
       "0                0.000000              0.0                 0.062595   \n",
       "1                0.061398              0.0                 0.000000   \n",
       "2                0.062439              0.0                 0.000000   \n",
       "3                0.000000              0.0                 0.000000   \n",
       "4                0.000000              0.0                 0.000000   \n",
       "\n",
       "   ACCOUNT_AGE_up to 1 YR  STATE_CT  STATE_NJ  STATE_NY  STATE_PA  \\\n",
       "0                0.000000  0.062595       0.0       0.0  0.000000   \n",
       "1                0.000000  0.061398       0.0       0.0  0.000000   \n",
       "2                0.000000  0.000000       0.0       0.0  0.062439   \n",
       "3                0.061264  0.000000       0.0       0.0  0.061264   \n",
       "4                0.062250  0.062250       0.0       0.0  0.000000   \n",
       "\n",
       "   IS_URBAN_NO  IS_URBAN_YES  IS_STATE_BORDER_NO  IS_STATE_BORDER_YES  \\\n",
       "0     0.062595      0.000000            0.000000             0.062595   \n",
       "1     0.000000      0.061398            0.000000             0.061398   \n",
       "2     0.062439      0.000000            0.062439             0.000000   \n",
       "3     0.000000      0.061264            0.061264             0.000000   \n",
       "4     0.062250      0.000000            0.000000             0.062250   \n",
       "\n",
       "   HAS_CO_APPLICANT_NO  HAS_CO_APPLICANT_YES  HAS_GUARANTOR_NO  \\\n",
       "0                  0.0              0.062595          0.000000   \n",
       "1                  0.0              0.061398          0.000000   \n",
       "2                  0.0              0.062439          0.000000   \n",
       "3                  0.0              0.061264          0.061264   \n",
       "4                  0.0              0.062250          0.000000   \n",
       "\n",
       "   HAS_GUARANTOR_YES  OWN_REAL_ESTATE_NO  OWN_REAL_ESTATE_YES  \\\n",
       "0           0.062595            0.062595             0.000000   \n",
       "1           0.061398            0.061398             0.000000   \n",
       "2           0.062439            0.000000             0.062439   \n",
       "3           0.000000            0.061264             0.000000   \n",
       "4           0.062250            0.000000             0.062250   \n",
       "\n",
       "   OTHER_INSTALMENT_PLAN_NO  OTHER_INSTALMENT_PLAN_YES  OWN_RESIDENCE_NO  \\\n",
       "0                  0.000000                   0.062595          0.062595   \n",
       "1                  0.061398                   0.000000          0.000000   \n",
       "2                  0.062439                   0.000000          0.000000   \n",
       "3                  0.061264                   0.000000          0.000000   \n",
       "4                  0.000000                   0.062250          0.062250   \n",
       "\n",
       "   OWN_RESIDENCE_YES  RFM_SCORE_1  RFM_SCORE_2  RFM_SCORE_3  RFM_SCORE_4  \\\n",
       "0           0.000000          0.0          0.0     0.000000     0.062595   \n",
       "1           0.061398          0.0          0.0     0.061398     0.000000   \n",
       "2           0.062439          0.0          0.0     0.062439     0.000000   \n",
       "3           0.061264          0.0          0.0     0.061264     0.000000   \n",
       "4           0.000000          0.0          0.0     0.062250     0.000000   \n",
       "\n",
       "   OWN_CAR_NO  OWN_CAR_YES  SHIP_INTERNATIONAL_NO  SHIP_INTERNATIONAL_YES  \n",
       "0    0.062595     0.000000               0.062595                0.000000  \n",
       "1    0.000000     0.061398               0.000000                0.061398  \n",
       "2    0.000000     0.062439               0.000000                0.062439  \n",
       "3    0.061264     0.000000               0.061264                0.000000  \n",
       "4    0.000000     0.062250               0.000000                0.062250  "
      ]
     },
     "execution_count": 19,
     "metadata": {},
     "output_type": "execute_result"
    }
   ],
   "source": [
    "min_max_scaler = MinMaxScaler()\n",
    "features = min_max_scaler.fit_transform(cust_pd_X)\n",
    "features = normalize(features, axis=1, norm='l1')\n",
    "\n",
    "cust_pd_X = pd.DataFrame(features,columns=cust_pd_X.columns)\n",
    "cust_pd_X.head()"
   ]
  },
  {
   "cell_type": "markdown",
   "metadata": {},
   "source": [
    "## Split Train and Test Dataset"
   ]
  },
  {
   "cell_type": "code",
   "execution_count": 20,
   "metadata": {},
   "outputs": [
    {
     "name": "stdout",
     "output_type": "stream",
     "text": [
      "X_train.shape= (7000000, 51) Y_train.shape= (7000000, 1)\n",
      "X_test.shape= (3000000, 51) Y_test.shape= (3000000, 1)\n"
     ]
    }
   ],
   "source": [
    "label    = cust_pd_Y.values\n",
    "features  = cust_pd_X.values\n",
    "\n",
    "label = np.reshape(label,(-1,1))\n",
    "X_train,X_test,y_train,y_test = \\\n",
    "       train_test_split(features, label, test_size=0.3, random_state=42, stratify=label)\n",
    "print('X_train.shape=', X_train.shape, 'Y_train.shape=', y_train.shape)\n",
    "print('X_test.shape=', X_test.shape, 'Y_test.shape=', y_test.shape)"
   ]
  },
  {
   "cell_type": "markdown",
   "metadata": {},
   "source": [
    "# Snapml Training"
   ]
  },
  {
   "cell_type": "code",
   "execution_count": 21,
   "metadata": {},
   "outputs": [],
   "source": [
    "# Import the LogisticRegression from snap.ml\n",
    "from pai4sk import LogisticRegression\n",
    "snapml_lr = LogisticRegression(use_gpu=True, device_ids=[0,1], \n",
    "                        max_iter=10, num_threads=1024)\n"
   ]
  },
  {
   "cell_type": "code",
   "execution_count": 22,
   "metadata": {},
   "outputs": [
    {
     "name": "stdout",
     "output_type": "stream",
     "text": [
      "[snap.ml] Training time (s):  2.58\n"
     ]
    }
   ],
   "source": [
    "# Training\n",
    "t0 = time.time()\n",
    "snapml_lr.fit(X_train, y_train)\n",
    "print(\"[snap.ml] Training time (s):  {0:.2f}\".format(time.time()-t0))"
   ]
  },
  {
   "cell_type": "code",
   "execution_count": 23,
   "metadata": {},
   "outputs": [
    {
     "name": "stdout",
     "output_type": "stream",
     "text": [
      "snap ml accuracy score =  0.9598343333333333\n"
     ]
    }
   ],
   "source": [
    "# Evaluate accuracy on test set\n",
    "snapml_prediction = snapml_lr.predict(X_test)\n",
    "print('snap ml accuracy score = ', accuracy_score(y_test, snapml_prediction))\n",
    "\n",
    "# proba_test = snapml_lr.predict_proba(X_test)\n",
    "# from sklearn.metrics import log_loss\n",
    "# logloss_snap = log_loss(y_test, proba_test)\n",
    "# print(\"[snap.ml] Logarithmic loss:   {0:.4f}\".format(logloss_snap))"
   ]
  },
  {
   "cell_type": "markdown",
   "metadata": {},
   "source": [
    "# sklearn Train"
   ]
  },
  {
   "cell_type": "code",
   "execution_count": 24,
   "metadata": {},
   "outputs": [],
   "source": [
    "# Import\n",
    "from sklearn.linear_model import LogisticRegression\n",
    "sklearn_lr = LogisticRegression(verbose=1)"
   ]
  },
  {
   "cell_type": "code",
   "execution_count": null,
   "metadata": {},
   "outputs": [],
   "source": [
    "# TRAIN\n",
    "t0 = time.time()\n",
    "sklearn_lr.fit(X_train, y_train)\n",
    "print(\"[sklearn] Training time (s):  {0:.5f}\".format(time.time()-t0))\n"
   ]
  },
  {
   "cell_type": "code",
   "execution_count": 26,
   "metadata": {},
   "outputs": [
    {
     "name": "stdout",
     "output_type": "stream",
     "text": [
      "sklearn ml accuracy score =  0.9598296666666667\n"
     ]
    }
   ],
   "source": [
    "# Evaluate log-loss on test set\n",
    "# proba_test = sklearn_lr.predict_proba(X_test)\n",
    "# from sklearn.metrics import log_loss\n",
    "# logloss_sklearn = log_loss(y_test, proba_test)\n",
    "# print(\"[sklearn] Logarithmic loss:   {0:.4f}\".format(logloss_sklearn))\n",
    "sklearn_prediction = sklearn_lr.predict(X_test)\n",
    "print('sklearn ml accuracy score = ', accuracy_score(y_test, sklearn_prediction))"
   ]
  },
  {
   "cell_type": "markdown",
   "metadata": {},
   "source": [
    "&copy; Copyright IBM Corporation 2018"
   ]
  }
 ],
 "metadata": {
  "kernelspec": {
   "display_name": "Python 3",
   "language": "python",
   "name": "python3"
  },
  "language_info": {
   "codemirror_mode": {
    "name": "ipython",
    "version": 3
   },
   "file_extension": ".py",
   "mimetype": "text/x-python",
   "name": "python",
   "nbconvert_exporter": "python",
   "pygments_lexer": "ipython3",
   "version": "3.6.9"
  },
  "toc": {
   "base_numbering": 1,
   "nav_menu": {},
   "number_sections": true,
   "sideBar": true,
   "skip_h1_title": false,
   "title_cell": "Table of Contents",
   "title_sidebar": "Contents",
   "toc_cell": false,
   "toc_position": {},
   "toc_section_display": true,
   "toc_window_display": true
  },
  "varInspector": {
   "cols": {
    "lenName": 16,
    "lenType": 16,
    "lenVar": 40
   },
   "kernels_config": {
    "python": {
     "delete_cmd_postfix": "",
     "delete_cmd_prefix": "del ",
     "library": "var_list.py",
     "varRefreshCmd": "print(var_dic_list())"
    },
    "r": {
     "delete_cmd_postfix": ") ",
     "delete_cmd_prefix": "rm(",
     "library": "var_list.r",
     "varRefreshCmd": "cat(var_dic_list()) "
    }
   },
   "types_to_exclude": [
    "module",
    "function",
    "builtin_function_or_method",
    "instance",
    "_Feature"
   ],
   "window_display": false
  }
 },
 "nbformat": 4,
 "nbformat_minor": 2
}
